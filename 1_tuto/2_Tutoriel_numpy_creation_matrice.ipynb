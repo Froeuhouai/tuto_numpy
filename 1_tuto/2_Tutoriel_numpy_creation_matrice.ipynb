{
 "cells": [
  {
   "cell_type": "markdown",
   "metadata": {},
   "source": [
    "# Tutoriel numpy pour la création et la manipulation de base des matrices\n",
    "\n",
    "Une fois la base de python acquise, nous nous intéressons à la bibliothèque de calcul matriciel sur laquelle va reposer une bonne part des TP à venir. Cette bibliothèque s'appelle numpy.\n",
    "\n",
    "Ce choix implique néanmoins plusieurs difficultés dont vous devez avoir conscience afin mieux les appréhender.\n",
    "\n",
    "1. Les opérateurs de haut niveau ont parfois un comportement *magique*: toute ligne de code doit impérativement être comprise en profondeur par tous, il n'est pas acceptable de *tatonner jusqu'à ce que la syntaxe soit correcte*\n",
    "1. Pour accéder à ```numpy```, il faut passer par python... Ce qui implique de maitriser les deux syntaxes (au moins a minima). \n",
    "1. En plus de la maitrise minimum, il faut éviter les confusions: les listes python sont très proches des vecteurs ```numpy```... Mais les fonctions disponibles dessus sont différentes.\n",
    "\n",
    "\n",
    "**Rappel:**\n",
    "\n",
    "Pour executer une cellule : Shift + Entrée"
   ]
  },
  {
   "cell_type": "code",
   "execution_count": 1,
   "metadata": {},
   "outputs": [
    {
     "name": "stdout",
     "output_type": "stream",
     "text": [
      "Import OK\n"
     ]
    }
   ],
   "source": [
    "# gestion des bibliothèques externes\n",
    "import numpy as np\n",
    "print(\"Import OK\") # affichage en fin de boite pour visualiser que l'exécution a bien eu lieue"
   ]
  },
  {
   "cell_type": "markdown",
   "metadata": {},
   "source": [
    "## Créations de matrice par différentes méthodes\n",
    "\n",
    "**Approche 1:** utiliser les méthodes de ```numpy``` pour créer des matrices spéciales:\n",
    "\n",
    "  * [1, 2, 3, ...] (=arange)\n",
    "  * [0, 0, 0, ...] (=zeros)\n",
    "  * [1, 1, 1, ...] (=ones)\n",
    "\n",
    "Le but n'est pas d'apprendre *par coeur* toutes les méthodes mais de comprendre la philosophie de l'outil et de savoir revenir chercher les informations quand c'est nécessaire.\n",
    "Vous allez petit à petit apprendre ces fonctions à force de les utiliser.\n",
    "\n",
    "**Approche 2:** travailler en python avec des listes puis passer dans ```numpy``` à l'aide d'un *constructeur* de matrice\n",
    "\n",
    "**Approche 3:** charger les valeurs numériques d'un fichier dans une matrice ```numpy```\n",
    "\n",
    "\n",
    "Dans toutes les boites suivantes:\n",
    "\n",
    "1. Exécuter les boites\n",
    "1. Jouer avec les arguments de construction pour comprendre l'impact en ré-exécutant les boites.\n",
    "\n"
   ]
  },
  {
   "cell_type": "code",
   "execution_count": 4,
   "metadata": {
    "collapsed": true
   },
   "outputs": [
    {
     "name": "stdout",
     "output_type": "stream",
     "text": [
      "[0 1 2 3 4 5 6 7 8 9]\n",
      "[0 1 2 3 4 5 6 7 8 9]\n",
      "[0 2 4 6 8]\n"
     ]
    }
   ],
   "source": [
    "# Approche 1\n",
    "# Création de vecteurs\n",
    "v3 = np.arange(0, 10, 2) # create a range\n",
    "                         # arguments: start, stop, step\n",
    "\n",
    "v2 = np.arange(0, 10)    # with default step=1\n",
    "v1 = np.arange(10)       # default start=0\n",
    "print(v1)\n",
    "print(v2)\n",
    "print(v3)\n"
   ]
  },
  {
   "cell_type": "code",
   "execution_count": 5,
   "metadata": {},
   "outputs": [
    {
     "name": "stdout",
     "output_type": "stream",
     "text": [
      "[ 0.          0.71428571  1.42857143  2.14285714  2.85714286  3.57142857\n",
      "  4.28571429  5.          5.71428571  6.42857143  7.14285714  7.85714286\n",
      "  8.57142857  9.28571429 10.        ]\n"
     ]
    }
   ],
   "source": [
    "# Vecteur de 15 dimensions dont les valeurs sont entre 0 et 10 inclus\n",
    "v2 = np.linspace(0, 10, 15) # avec linspace, le début et la fin SONT inclus\n",
    "print(v2)"
   ]
  },
  {
   "cell_type": "code",
   "execution_count": 6,
   "metadata": {},
   "outputs": [
    {
     "name": "stdout",
     "output_type": "stream",
     "text": [
      "[1. 1. 1. 1. 1.]\n",
      "[[1. 1.]\n",
      " [1. 1.]\n",
      " [1. 1.]\n",
      " [1. 1.]\n",
      " [1. 1.]\n",
      " [1. 1.]\n",
      " [1. 1.]\n",
      " [1. 1.]\n",
      " [1. 1.]\n",
      " [1. 1.]]\n",
      "[[1. 0. 0. 0.]\n",
      " [0. 1. 0. 0.]\n",
      " [0. 0. 1. 0.]\n",
      " [0. 0. 0. 1.]]\n",
      "[[0.92214798 0.20324419 0.87085074 0.93620757 0.12632679 0.39845689]\n",
      " [0.5597506  0.39608199 0.28981616 0.61417268 0.42552889 0.75781735]\n",
      " [0.89854627 0.5194646  0.72418933 0.83324346 0.8429036  0.62740209]\n",
      " [0.451232   0.29096409 0.83787813 0.03179706 0.1735101  0.40220008]\n",
      " [0.21436104 0.65314595 0.89701197 0.39301527 0.73263064 0.85011688]]\n"
     ]
    }
   ],
   "source": [
    "v3 = np.ones(5)\n",
    "print(v3)\n",
    "\n",
    "m1 = np.ones((10,2))  # matrice de 1, argument = nuplet avec les dimensions\n",
    "                      # ATTENTION np.ones(10,2) ne marche pas. \n",
    "                      # Philosophie = toujours 1 argument, qui peut être un tuple pour créer plusieurs dimensions\n",
    "print(m1)\n",
    "\n",
    "m2 = np.zeros((5,4))  # matrice de 0\n",
    "m3 = np.eye(4)        # matrice identité carrée, arg = dimension\n",
    "print(m3)\n",
    "\n",
    "m4 = np.random.rand(5,6)  # matrice de nombres aléatoires indépendants entre 0 et 1, args = dimensions\n",
    "                          # ATTENTION philosophie+syntaxe différentes de ones/zeros\n",
    "print(m4)"
   ]
  },
  {
   "cell_type": "code",
   "execution_count": 8,
   "metadata": {
    "collapsed": false,
    "scrolled": true
   },
   "outputs": [
    {
     "name": "stdout",
     "output_type": "stream",
     "text": [
      "matrice python:  [[1, 2], [3, 4]]\n",
      "matrice numpy: \n",
      " [[1 2]\n",
      " [3 4]]\n",
      "matrice numpy + 1: \n",
      " [[2 3]\n",
      " [4 5]]\n"
     ]
    }
   ],
   "source": [
    "# approche 2: passage de python classique à numpy\n",
    "\n",
    "# Création de matrices\n",
    "mpy = [[1, 2], [3, 4]]     # matrice python = liste de liste\n",
    "print(\"matrice python: \", mpy)                         \n",
    "# test naïf:\n",
    "#print(mpy + 1) # => ERREUR, on ne peut pas additionner 1 sur une liste python\n",
    "# il faut commenter la ligne précédente pour pouvoir exécuter la suite\n",
    "\n",
    "# passage à numpy:\n",
    "mnp = np.array(mpy)\n",
    "print(\"matrice numpy: \\n\", mnp) # l'affichage est plus joli!\n",
    "\n",
    "# apercu des outils de haut niveau qui seront disponibles:\n",
    "print(\"matrice numpy + 1: \\n\",mnp + 1) # ca marche !\n"
   ]
  },
  {
   "cell_type": "code",
   "execution_count": 9,
   "metadata": {},
   "outputs": [
    {
     "name": "stdout",
     "output_type": "stream",
     "text": [
      "[[ 0  1  2  3  4]\n",
      " [10 11 12 13 14]\n",
      " [20 21 22 23 24]\n",
      " [30 31 32 33 34]\n",
      " [40 41 42 43 44]]\n"
     ]
    }
   ],
   "source": [
    "# approche 2: vers des matrices plus compliquées\n",
    "\n",
    "# syntaxe plus compliquée + matrice plus compliquée!\n",
    "# création de listes python en utilisant des boucles imbriquées:\n",
    "mpy2 = [[n+m*10 for n in range(5)] for m in range(5)]\n",
    "\n",
    "# création d'une structure numpy à partir d'une liste ou d'une liste de liste:\n",
    "mnp2 = np.array([[n+m*10 for n in range(5)] for m in range(5)]) # ou np.array(mp)\n",
    "print(mnp2)\n"
   ]
  },
  {
   "cell_type": "markdown",
   "metadata": {},
   "source": [
    "### Approche 3\n",
    "\n",
    "Afin de démontrer l'importation de valeurs depuis un fichier... Nous allons créer un fichier.\n",
    "\n",
    "1. Ouvrir un éditeur de texte (notepad, gedit, sublime, ...)\n",
    "1. Copier-coller le texte ci-dessous (les chiffres sont séparés par des tabulations):\n",
    "```\n",
    "1   2\n",
    "3   3\n",
    "4   2\n",
    "5   1\n",
    "```\n",
    "1. Sauver le fichier sous le nom: ```test.txt``` **dans le même répertoire que le notebook**\n",
    "1. Exécuter la boite ci-dessous qui doit lire le fichier\n",
    "\n",
    "La boite encore en dessous illustre la possibilité symétrique: le fait de sauver une matrice dans un fichier. Du point de vue de la programmation de bas niveau, ces opérations sont non triviales (ouverture/fermeture de fichier; lecture/écriture; ...) L'intérêt de numpy est justement de nous affranchir de ces difficultés opérationnelles pour nous concentrer sur les données elles-mêmes.\n"
   ]
  },
  {
   "cell_type": "code",
   "execution_count": 10,
   "metadata": {},
   "outputs": [
    {
     "name": "stdout",
     "output_type": "stream",
     "text": [
      "[[1. 2.]\n",
      " [3. 3.]\n",
      " [4. 2.]\n",
      " [5. 1.]]\n"
     ]
    }
   ],
   "source": [
    "# approche 3\n",
    "m5 = np.loadtxt(\"test.txt\")\n",
    "print(m5)\n",
    "# Vous pouvez modifier m5 à volonté, le fichier n'est pas impacté (ce qui est intuitif)"
   ]
  },
  {
   "cell_type": "code",
   "execution_count": 11,
   "metadata": {},
   "outputs": [],
   "source": [
    "mat = np.ones((5,3))\n",
    "mat[1, 2] = 2 # modification d'une case (cf boite ci-dessous)\n",
    "np.savetxt(\"test2.txt\", mat)\n",
    "\n",
    "# aller vérifier que le fichier a bien été créé et l'ouvrir pour vérifier le contenu."
   ]
  },
  {
   "cell_type": "markdown",
   "metadata": {},
   "source": [
    "## Récupération/affectation de valeurs\n",
    "\n",
    "La boite ci-dessous liste les opérations de lecture possible. Ajouter des ```print``` pour vérifier que vous avez compris les valeurs extraites.\n",
    "\n",
    "Sur les vecteurs, l'indicage est sans ambiguité:\n",
    "$$ A = [a_0, a_1, \\ldots, a_d] $$\n",
    "\n",
    "\n",
    "Sur les matrices, par contre, il faut comprendre la logique: le premier indice désigne les lignes, le second les colonnes.\n",
    "Lorsque que vous aurez initialisé une matrice de taille $(n,d)$, il faudra imaginer la structure de données suivante en faisant attention à l'ordre des arguments:\n",
    "\n",
    "$ M = \\begin{pmatrix}\n",
    "m_{11} & m_{12} & \\ldots & m_{1d} \\\\\n",
    "m_{21} & m_{22} & \\ldots & m_{2d} \\\\\n",
    "\\vdots &  \\vdots & \\ddots & \\vdots \\\\\n",
    "m_{n1} & m_{n2} & \\ldots & m_{nd} \\\\\n",
    "\\end{pmatrix} $\n",
    "\n",
    "Par exemple, pour accéder à la deuxième ligne-première colonne, il faut faire : ```M[1,0]```\n",
    "\n",
    "Dans tous les cas, il faut ensuite distinguer l'accès à une valeur et l'accès à un bloc (série de valeurs ou sous-matrice).\n"
   ]
  },
  {
   "cell_type": "code",
   "execution_count": 12,
   "metadata": {
    "collapsed": true
   },
   "outputs": [
    {
     "data": {
      "text/plain": [
       "array([3, 4, 5])"
      ]
     },
     "execution_count": 12,
     "metadata": {},
     "output_type": "execute_result"
    }
   ],
   "source": [
    "# accès aux différentes valeurs dans un VECTEUR numpy\n",
    "\n",
    "A = np.array([1,2,3,4,5])\n",
    "A[1:3]  # array([2, 3])\n",
    "\n",
    "# On peut omettre n'importe lequel des argument dans A[start:stop:step]:\n",
    "A[::] # indices de début, fin, et pas avec leurs valeurs par défaut\n",
    "      # array([ 1, 2, 3,  4,  5])\n",
    "A[::2] # pas = 2, indices de début et de fin par défaut\n",
    "       # array([ 1, 3,  5])\n",
    "A[:3] # les trois premiers éléments (indices 0,1,2)\n",
    "      # array([ 1, 2, 3])\n",
    "A[3:] # à partir de l'indice 3\n",
    "      # array([4, 5])\n",
    "\n",
    "# On peut utiliser des indices négatifs :\n",
    "A[-1] # le dernier élément\n",
    "      # 5\n",
    "A[-3:] # les 3 derniers éléments\n",
    "       # array([3, 4, 5])\n",
    "\n"
   ]
  },
  {
   "cell_type": "code",
   "execution_count": 13,
   "metadata": {},
   "outputs": [
    {
     "data": {
      "text/plain": [
       "array([1., 1., 1., 1.])"
      ]
     },
     "execution_count": 13,
     "metadata": {},
     "output_type": "execute_result"
    }
   ],
   "source": [
    "# accès aux différentes valeurs dans une MATRICE numpy\n",
    "# => Passage de 1 à 2 dimensions\n",
    "\n",
    "mat   = np.ones((5,6)) \n",
    "mat[0,0] # récupération de la première valeur\n",
    "mat[0,:] # récupération de la première ligne\n",
    "mat[0,0:2] # récupération des valeurs d'indice 0 et 1\n",
    "# petites astuces supplémentaires\n",
    "mat[0,1:] # toute la ligne sauf la première case\n",
    "mat[0,:-1] # toute la ligne sauf la dernière case\n",
    "mat[0,:-2] # toute la ligne sauf les deux dernières cases    \n"
   ]
  },
  {
   "cell_type": "markdown",
   "metadata": {},
   "source": [
    "### Passage à l'affectation de valeurs sur certaines cases\n",
    "\n",
    "La syntaxe est la même, l'approche est assez intuitive."
   ]
  },
  {
   "cell_type": "code",
   "execution_count": 14,
   "metadata": {},
   "outputs": [
    {
     "name": "stdout",
     "output_type": "stream",
     "text": [
      "[[2. 2. 0. 0. 1. 1.]\n",
      " [0. 1. 2. 3. 4. 5.]\n",
      " [1. 1. 1. 1. 1. 1.]\n",
      " [1. 1. 1. 1. 1. 1.]\n",
      " [1. 1. 1. 1. 1. 1.]]\n",
      "[[0.34684327 0.5559287  0.2252516 ]\n",
      " [0.40725795 0.40436906 0.80754152]\n",
      " [0.10435873 0.06362858 0.71346968]\n",
      " [0.9047697  0.42590231 0.52196625]\n",
      " [0.68494679 0.13327835 0.87577839]]\n",
      "[0.10435873 0.06362858 0.71346968]\n",
      "[[0.10435873 0.06362858 0.71346968]]\n"
     ]
    }
   ],
   "source": [
    "# Affectation de valeurs:\n",
    "# une matrice d'entier\n",
    "mat   = np.ones((5,6)) \n",
    "mat[0,0:2] = 2 # affectation en bloc\n",
    "mat[0,2:4] = np.zeros((1,2)) # affectation en bloc d'une autre matrice\n",
    "mat[1, :]  = np.arange(6)\n",
    "print(mat)\n",
    "\n",
    "# Matrice VS vecteur !!\n",
    "A = np.random.rand(5,3) # matrice 5x3\n",
    "print(A)\n",
    "B = A[2,:]              # extraction de la troisième ligne...\n",
    "                        # il s'agit d'un vecteur !!!\n",
    "print(B)\n",
    "B = A[2:3,:]            # extraction de la troisième ligne...\n",
    "                        # mais il s'agit d'une matrice (transposable) !!!\n",
    "print(B)"
   ]
  },
  {
   "cell_type": "markdown",
   "metadata": {},
   "source": [
    "## Opérateurs de haut niveau sur les matrices\n",
    "\n",
    "Le fait de passer dans l'univers numpy ouvre des possibilités: il est possible de faire les opérations suivantes sur les matrices: agrégation, addition, soustraction, recherche de min, max, moyenne -globale, par ligne ou par colonne-, etc..."
   ]
  },
  {
   "cell_type": "code",
   "execution_count": 17,
   "metadata": {
    "collapsed": true
   },
   "outputs": [
    {
     "name": "stdout",
     "output_type": "stream",
     "text": [
      "[[1. 2.]\n",
      " [3. 4.]\n",
      " [1. 1.]\n",
      " [1. 1.]\n",
      " [1. 1.]]\n",
      "[[1. 2. 3.]\n",
      " [1. 1. 0.]\n",
      " [1. 1. 0.]\n",
      " [1. 1. 0.]]\n"
     ]
    }
   ],
   "source": [
    "# concaténation de matrices:\n",
    "# ATTENTION: la logique est la même que pour ones/zeros\n",
    "# => un seul argument sous la forme d'un tuple contenant les matrices à fusionner\n",
    "\n",
    "# fusion verticale\n",
    "m6 = np.vstack((np.array([[1, 2], [3, 4]]), np.ones((3,2))))\n",
    "print(m6)\n",
    "\n",
    "# fusion verticale + fusion horizontale\n",
    "m7 = np.vstack((np.array([1, 2, 3]), np.hstack((np.ones((3,2)), np.zeros((3,1))))))\n",
    "print(m7)\n"
   ]
  },
  {
   "cell_type": "markdown",
   "metadata": {},
   "source": [
    "### Tailles des matrices\n",
    "\n",
    "Il est important de savoir accéder aux dimensions des matrices que l'on manipule. C'est une opération utile en générale... Mais surtout indispensable pour débugguer les programmes.\n",
    "\n",
    "Lorsque vous êtes face à une erreur, il faut comprendre d'où elle vient (évidemment !). On commence souvent par faire des ```print``` sur les matrices, ce qui est une bonne idée mais qui a des limites: dès que les matrices sont grandes, on ne voit plus rien...\n",
    "Il est alors bien plus pertinent de faire des vérifications sur les dimensions des matrices."
   ]
  },
  {
   "cell_type": "code",
   "execution_count": 18,
   "metadata": {
    "collapsed": true
   },
   "outputs": [],
   "source": [
    "# pour une variable:\n",
    "mat.shape # (5,6)\n",
    "mat.shape[0] # 5\n",
    "mat.shape[1] # 6 \n",
    "n, m = mat.shape # retours multiples"
   ]
  },
  {
   "cell_type": "code",
   "execution_count": 35,
   "metadata": {},
   "outputs": [
    {
     "name": "stdout",
     "output_type": "stream",
     "text": [
      "[3 2]\n",
      "[[ 0.  1.  2.]\n",
      " [ 1. 12.  0.]\n",
      " [ 1.  1.  0.]\n",
      " [ 1.  1.  0.]]\n"
     ]
    }
   ],
   "source": [
    "# mini exercice de debuggage:\n",
    "# 1. Exécuter le code pour voir l'erreur\n",
    "# 2. Comprendre d'où vient le problème... En lisant le message puis en étudiant les dimensions des matrices de la ligne problématique\n",
    "print(np.hstack((np.ones((3,2)).shape)))\n",
    "mat = np.vstack((np.arange(3), np.hstack((np.ones((3,2)), np.zeros((3,1)))))) \n",
    "mat[1, 1] = 12\n",
    "print(mat)"
   ]
  },
  {
   "cell_type": "markdown",
   "metadata": {},
   "source": [
    "## Fonctions de base sur les matrices\n",
    "Additions, transposées etc..."
   ]
  },
  {
   "cell_type": "code",
   "execution_count": 36,
   "metadata": {
    "collapsed": true
   },
   "outputs": [],
   "source": [
    "ma = np.random.rand(5,6)     \n",
    "# Transposition\n",
    "mat = ma.T          # pour la transposée \n",
    "mat = ma.transpose();    # ou bien\n",
    "mat = np.transpose(ma);  # ou bien\n",
    "# la plupart des fonctions numpy acceptent la syntaxe objet et la syntaxe non-objet."
   ]
  },
  {
   "cell_type": "code",
   "execution_count": 41,
   "metadata": {
    "collapsed": true
   },
   "outputs": [
    {
     "ename": "ValueError",
     "evalue": "matmul: Input operand 1 has a mismatch in its core dimension 0, with gufunc signature (n?,k),(k,m?)->(n?,m?) (size 3 is different from 1)",
     "output_type": "error",
     "traceback": [
      "\u001b[1;31m---------------------------------------------------------------------------\u001b[0m",
      "\u001b[1;31mValueError\u001b[0m                                Traceback (most recent call last)",
      "Cell \u001b[1;32mIn [41], line 8\u001b[0m\n\u001b[0;32m      2\u001b[0m v1 \u001b[38;5;241m=\u001b[39m v1\u001b[38;5;241m+\u001b[39m \u001b[38;5;241m3\u001b[39m    \u001b[38;5;66;03m# ou v1 += 3     % matrice + scalaire\u001b[39;00m\n\u001b[0;32m      3\u001b[0m               \u001b[38;5;66;03m# changement sur les toutes les valeurs de v1\u001b[39;00m\n\u001b[0;32m      4\u001b[0m               \u001b[38;5;66;03m# NB: le - fonctionne pareil\u001b[39;00m\n\u001b[0;32m      5\u001b[0m \n\u001b[0;32m      6\u001b[0m \u001b[38;5;66;03m# multiplication :\u001b[39;00m\n\u001b[0;32m      7\u001b[0m \u001b[38;5;66;03m# ATTENTION à *\u001b[39;00m\n\u001b[1;32m----> 8\u001b[0m m1 \u001b[38;5;241m=\u001b[39m \u001b[43mnp\u001b[49m\u001b[38;5;241;43m.\u001b[39;49m\u001b[43mones\u001b[49m\u001b[43m(\u001b[49m\u001b[43m(\u001b[49m\u001b[38;5;241;43m10\u001b[39;49m\u001b[43m,\u001b[49m\u001b[38;5;241;43m1\u001b[39;49m\u001b[43m)\u001b[49m\u001b[43m)\u001b[49m\u001b[43m \u001b[49m\u001b[38;5;241;43m@\u001b[39;49m\u001b[43m \u001b[49m\u001b[43mnp\u001b[49m\u001b[38;5;241;43m.\u001b[39;49m\u001b[43marray\u001b[49m\u001b[43m(\u001b[49m\u001b[43m[\u001b[49m\u001b[38;5;241;43m1\u001b[39;49m\u001b[43m,\u001b[49m\u001b[38;5;241;43m2\u001b[39;49m\u001b[43m,\u001b[49m\u001b[38;5;241;43m3\u001b[39;49m\u001b[43m]\u001b[49m\u001b[43m)\u001b[49m \u001b[38;5;66;03m# Attention, produit matriciel\u001b[39;00m\n\u001b[0;32m      9\u001b[0m m2 \u001b[38;5;241m=\u001b[39m np\u001b[38;5;241m.\u001b[39mones((\u001b[38;5;241m10\u001b[39m,\u001b[38;5;241m3\u001b[39m)) \u001b[38;5;241m*\u001b[39m \u001b[38;5;241m2\u001b[39m                 \u001b[38;5;66;03m# multiplication par un scalaire\u001b[39;00m\n\u001b[0;32m     10\u001b[0m m3 \u001b[38;5;241m=\u001b[39m m1 \u001b[38;5;241m*\u001b[39m m2;            \u001b[38;5;66;03m# multiplication terme à terme   \u001b[39;00m\n",
      "\u001b[1;31mValueError\u001b[0m: matmul: Input operand 1 has a mismatch in its core dimension 0, with gufunc signature (n?,k),(k,m?)->(n?,m?) (size 3 is different from 1)"
     ]
    }
   ],
   "source": [
    "# Addition / soustraction\n",
    "v1 = v1+ 3    # ou v1 += 3     % matrice + scalaire\n",
    "              # changement sur les toutes les valeurs de v1\n",
    "              # NB: le - fonctionne pareil\n",
    "\n",
    "# multiplication :\n",
    "# ATTENTION à *\n",
    "m1 = np.ones((10,1)) @ np.array([1,2,3]) # Attention, produit matriciel\n",
    "m2 = np.ones((10,3)) * 2                 # multiplication par un scalaire\n",
    "m3 = m1 * m2;            # multiplication terme à terme   \n",
    "# usage de .dot => toujours matriciel\n",
    "m1 = np.ones((10,1)).dot(np.array([[1,2,3]])) # Bien mieux: moins d'ambiguité!\n",
    "print(m1)"
   ]
  },
  {
   "cell_type": "markdown",
   "metadata": {},
   "source": [
    "Reflexion sur les recherches de valeurs et d'indices:\n",
    "\n",
    "Soit la matrice:\n",
    "\n",
    "$m =\\begin{pmatrix}\n",
    "5 & 2 & 1\\\\\n",
    "1 & 0.5 & 3\n",
    "\\end{pmatrix} $\n",
    "\n",
    "Il y a différente manière de s'intéresser au minimum, correspondant à différents usages dans différents algorithmes:\n",
    "\n",
    "1. Recherche de la plus petite valeur de la matrice: ```m.min()```\u001d $\\Rightarrow 0.5$\n",
    "1. Recherche des minima sur chaque colonne: ```m.min(0)``` ou ```m.min(axis=0)```\u001d\u001d $\\Rightarrow [1, 0.5, 1]$\n",
    "1. Recherche des indices sur lesquels sur trouvent les minima pour chaque colonne: ```m.argmin(0)``` ou ```m.argmin(axis=0)```\u001d\u001d$\\Rightarrow [1, 1, 0]$\n",
    "\n",
    "Nous utiliserons beaucoup ces fonctions, dans toutes leurs formes.\n"
   ]
  },
  {
   "cell_type": "code",
   "execution_count": 42,
   "metadata": {
    "collapsed": false
   },
   "outputs": [
    {
     "name": "stdout",
     "output_type": "stream",
     "text": [
      "Soit la matrice m1:\n",
      " [[1. 2. 3.]\n",
      " [1. 2. 3.]\n",
      " [1. 2. 3.]\n",
      " [1. 2. 3.]\n",
      " [1. 2. 3.]\n",
      " [1. 2. 3.]\n",
      " [1. 2. 3.]\n",
      " [1. 2. 3.]\n",
      " [1. 2. 3.]\n",
      " [1. 2. 3.]] \n",
      "\n",
      "1.0\n",
      "[1. 2. 3.]\n",
      "[1. 1. 1. 1. 1. 1. 1. 1. 1. 1.]\n"
     ]
    }
   ],
   "source": [
    "# recherche du min dans une matrice\n",
    "# ajouter des print pour comprendre les méthodes\n",
    "\n",
    "print(\"Soit la matrice m1:\\n\",m1,\"\\n\")\n",
    "\n",
    "print(m1.min())   # syntaxe objet\n",
    "np.min(m1)        # autre syntaxe\n",
    "# recherche du minimum de chaque colonne:\n",
    "print(m1.min(axis=0)) # equivalent à m1.min(0)\n",
    "\n",
    "# recherche du minimum sur chaque ligne\n",
    "print(m1.min(1)) # equivalent à m1.min(axis=1)"
   ]
  },
  {
   "cell_type": "code",
   "execution_count": 45,
   "metadata": {},
   "outputs": [
    {
     "name": "stdout",
     "output_type": "stream",
     "text": [
      "4\n",
      "0.02133707\n"
     ]
    },
    {
     "data": {
      "text/plain": [
       "array([0.37791759, 0.28919694, 0.61599582])"
      ]
     },
     "execution_count": 45,
     "metadata": {},
     "output_type": "execute_result"
    }
   ],
   "source": [
    "# distinction min/argmin\n",
    "\n",
    "# travail en ligne/colonne\n",
    "m1 = np.array([[ 0.77846102,  0.22597046,  0.217657  ,  0.28958186], \\\n",
    "               [ 0.02133707,  0.03258567,  0.81939161,  0.2834734 ], \\\n",
    "               [ 0.92120271,  0.68409416,  0.24285983,  0.61582659]])\n",
    "m1.argmin()  # 4 = flattened array\n",
    "m1.min()\n",
    "print(m1.argmin())\n",
    "print(m1.min())\n",
    "m1.argmin(0) # array([1, 1, 0, 1])\n",
    "m1.argmin(1) # array([2, 0, 2])\n",
    "\n",
    "# arrondis\n",
    "np.round(m1) # au plus proche\n",
    "np.ceil(m1)  # au dessus\n",
    "np.floor(m1) # au dessous\n",
    "\n",
    "# tris\n",
    "np.sort(m1)   # ligne par ligne\n",
    "np.sort(m1,0) # colonne par colonne\n",
    "np.sort(m1,1) # ligne par ligne\n",
    "\n",
    "# statistique de base\n",
    "m1.mean() # 0.427  -> sur toute la matrice\n",
    "m1.mean(0) # array([ 0.57366693,  0.31421676,  0.42663615,  0.39629395]) \n",
    "            # colonne par colonne\n",
    "m1.mean(1) # ligne par ligne\n",
    "\n",
    "# m1.std...\n",
    "# m1.sum...\n",
    "# m1.prod...\n",
    "# m1.cumsum..."
   ]
  },
  {
   "cell_type": "markdown",
   "metadata": {},
   "source": [
    "### Jouons avec les minima\n",
    "\n",
    "Gestion particulière du minimum: on a souvent besoin de retourner la valeur minimum parmi 2. En C/JAVA/Matlab, cela est réalisé avec min... Pas en python! => minimum"
   ]
  },
  {
   "cell_type": "code",
   "execution_count": 47,
   "metadata": {
    "collapsed": true
   },
   "outputs": [
    {
     "name": "stdout",
     "output_type": "stream",
     "text": [
      "[[0.71058082 0.62391231 0.70188207 0.06858872]\n",
      " [0.95617445 0.70112021 0.28523709 0.48389792]\n",
      " [0.49061947 0.26006725 0.72546234 0.41641948]]\n",
      "[[0.02920655 0.80668783 0.73900844 0.25505043]\n",
      " [0.82371563 0.91076112 0.92547677 0.11903346]\n",
      " [0.34165564 0.47749105 0.31637234 0.82086305]]\n",
      "[[0.02920655 0.62391231 0.70188207 0.06858872]\n",
      " [0.82371563 0.70112021 0.28523709 0.11903346]\n",
      " [0.34165564 0.26006725 0.31637234 0.41641948]]\n"
     ]
    },
    {
     "data": {
      "text/plain": [
       "array([[0.5       , 0.5       , 0.5       , 0.06858872],\n",
       "       [0.5       , 0.5       , 0.28523709, 0.48389792],\n",
       "       [0.49061947, 0.26006725, 0.5       , 0.41641948]])"
      ]
     },
     "execution_count": 47,
     "metadata": {},
     "output_type": "execute_result"
    }
   ],
   "source": [
    "# entre 2 valeurs\n",
    "np.minimum(2,3) # 2\n",
    "# entre 2 matrices\n",
    "m1 = np.random.rand(3,4)\n",
    "m2 = np.random.rand(3,4)    \n",
    "print(m1)\n",
    "print(m2)\n",
    "print(np.minimum(m1,m2))# matrice 3x4 contenant les valeurs min d'une comparaison terme à terme\n",
    "# entre une matrice et un scalaire: pour seuiller\n",
    "np.minimum(m1,0.5)\n",
    "# array([[ 0.5       ,  0.22597046,  0.217657  ,  0.28958186],\n",
    "#        [ 0.02133707,  0.03258567,  0.5       ,  0.2834734 ],\n",
    "#        [ 0.5       ,  0.5       ,  0.24285983,  0.5       ]])"
   ]
  },
  {
   "cell_type": "markdown",
   "metadata": {},
   "source": [
    "## boucles avancées (bien pratiques)"
   ]
  },
  {
   "cell_type": "code",
   "execution_count": 48,
   "metadata": {},
   "outputs": [
    {
     "name": "stdout",
     "output_type": "stream",
     "text": [
      "[0 1 2 3 4 5 6 7 8 9] [0.23482648 0.16438391 0.09292374 0.03355842 0.53771988 0.86692549\n",
      " 0.92041394 0.84856977 0.35421255 0.23245651]\n",
      "indice  0  et valeur associée  0.23482648116436466\n",
      "indice  1  et valeur associée  0.16438391175886602\n",
      "indice  2  et valeur associée  0.09292373984057345\n",
      "indice  3  et valeur associée  0.03355841982235763\n",
      "indice  4  et valeur associée  0.5377198799932366\n",
      "indice  5  et valeur associée  0.8669254891419439\n",
      "indice  6  et valeur associée  0.9204139435438665\n",
      "indice  7  et valeur associée  0.8485697681777417\n",
      "indice  8  et valeur associée  0.354212547293132\n",
      "indice  9  et valeur associée  0.23245651281813484\n",
      "indice  0  et valeur associée  0.23482648116436466\n",
      "indice  1  et valeur associée  0.16438391175886602\n",
      "indice  2  et valeur associée  0.09292373984057345\n",
      "indice  3  et valeur associée  0.03355841982235763\n",
      "indice  4  et valeur associée  0.5377198799932366\n",
      "indice  5  et valeur associée  0.8669254891419439\n",
      "indice  6  et valeur associée  0.9204139435438665\n",
      "indice  7  et valeur associée  0.8485697681777417\n",
      "indice  8  et valeur associée  0.354212547293132\n",
      "indice  9  et valeur associée  0.23245651281813484\n"
     ]
    }
   ],
   "source": [
    "v0 =np.arange(10)\n",
    "v1 = np.random.rand(10)\n",
    "\n",
    "print(v0,v1)\n",
    "\n",
    "for val0, val1 in zip(v0, v1):\n",
    "    print('indice ',val0, ' et valeur associée ', val1)\n",
    "    \n",
    "# note: il était possible d'obtenir le même résultat avec enumerate:\n",
    "for i, val in enumerate(v1):\n",
    "    print('indice ',i, ' et valeur associée ', val)"
   ]
  },
  {
   "cell_type": "markdown",
   "metadata": {},
   "source": [
    "## Tests en bloc\n",
    "Exercice intéressant pour deux raisons\n",
    "1. connaitre cette syntaxe particulière\n",
    "1. comprendre les messages d'erreur lorsqu'on essaie de faire des tests sur une matrice sans ces instructions"
   ]
  },
  {
   "cell_type": "code",
   "execution_count": 42,
   "metadata": {
    "collapsed": true
   },
   "outputs": [
    {
     "name": "stdout",
     "output_type": "stream",
     "text": [
      "(1) NOT sup to 1\n",
      "(2) sup to 1\n"
     ]
    }
   ],
   "source": [
    "m = np.array([[1, 2], [3, 4]])\n",
    "\n",
    "if (m>1).all():\n",
    "    print(\"(1) sup to 1\")\n",
    "else:\n",
    "    print(\"(1) NOT sup to 1\")\n",
    "\n",
    "if (m>1).any():\n",
    "    print(\"(2) sup to 1\")\n",
    "else:\n",
    "    print(\"(2) NOT sup to 1\")"
   ]
  },
  {
   "cell_type": "code",
   "execution_count": 51,
   "metadata": {},
   "outputs": [
    {
     "name": "stdout",
     "output_type": "stream",
     "text": [
      "les valeurs sont supérieures à 0\n"
     ]
    }
   ],
   "source": [
    "# Une erreur très classique qu'il faut savoir comprendre (ie comprendre le message associé) puis corriger\n",
    "# (1) executer le bloc (2) lire le message d'erreur et le comprendre\n",
    "# (3) proposer une correction en accord avec le message du print\n",
    "\n",
    "if (m > 0).all():\n",
    "    print(\"les valeurs sont supérieures à 0\")\n"
   ]
  },
  {
   "cell_type": "markdown",
   "metadata": {},
   "source": [
    "## Fonctions et vectorisation des fonctions de base\n",
    "Il est évidemment possible de définir des fonctions prenant des structures numpy en argument. Mais il est aussi possible de *vectoriser* une fonction qui n'était pas prévue pour fonctionner sur des matrices. Il s'agit d'une nouvelle manière d'éviter les boucles.\n",
    "\n",
    "1. On définit une fonction qui transforme UNE valeur\n",
    "1. On passe cette fonction dans ```np.vectorize```\n",
    "1. On peut appliquer cette fonction sur une matrice et chacune des cases sera traitée\n",
    "\n"
   ]
  },
  {
   "cell_type": "code",
   "execution_count": 54,
   "metadata": {},
   "outputs": [
    {
     "ename": "ValueError",
     "evalue": "The truth value of an array with more than one element is ambiguous. Use a.any() or a.all()",
     "output_type": "error",
     "traceback": [
      "\u001b[1;31m---------------------------------------------------------------------------\u001b[0m",
      "\u001b[1;31mValueError\u001b[0m                                Traceback (most recent call last)",
      "Cell \u001b[1;32mIn [54], line 11\u001b[0m\n\u001b[0;32m      8\u001b[0m         \u001b[38;5;28;01mreturn\u001b[39;00m \u001b[38;5;241m0\u001b[39m\n\u001b[0;32m     10\u001b[0m theta_vec \u001b[38;5;241m=\u001b[39m np\u001b[38;5;241m.\u001b[39mvectorize(theta)         \u001b[38;5;66;03m# notation fonctionnelle (fonction sur des fonctions)\u001b[39;00m\n\u001b[1;32m---> 11\u001b[0m res \u001b[38;5;241m=\u001b[39m \u001b[43mtheta\u001b[49m\u001b[43m(\u001b[49m\u001b[43mnp\u001b[49m\u001b[38;5;241;43m.\u001b[39;49m\u001b[43marray\u001b[49m\u001b[43m(\u001b[49m\u001b[43m[\u001b[49m\u001b[38;5;241;43m-\u001b[39;49m\u001b[38;5;241;43m3\u001b[39;49m\u001b[43m,\u001b[49m\u001b[38;5;241;43m-\u001b[39;49m\u001b[38;5;241;43m2\u001b[39;49m\u001b[43m,\u001b[49m\u001b[38;5;241;43m-\u001b[39;49m\u001b[38;5;241;43m1\u001b[39;49m\u001b[43m,\u001b[49m\u001b[38;5;241;43m0\u001b[39;49m\u001b[43m,\u001b[49m\u001b[38;5;241;43m1\u001b[39;49m\u001b[43m,\u001b[49m\u001b[38;5;241;43m2\u001b[39;49m\u001b[43m,\u001b[49m\u001b[38;5;241;43m3\u001b[39;49m\u001b[43m]\u001b[49m\u001b[43m)\u001b[49m\u001b[43m)\u001b[49m\n\u001b[0;32m     12\u001b[0m \u001b[38;5;28mprint\u001b[39m(res)\n",
      "Cell \u001b[1;32mIn [54], line 5\u001b[0m, in \u001b[0;36mtheta\u001b[1;34m(x)\u001b[0m\n\u001b[0;32m      1\u001b[0m \u001b[38;5;28;01mdef\u001b[39;00m \u001b[38;5;21mtheta\u001b[39m(x):           \u001b[38;5;66;03m# signature classique \u001b[39;00m\n\u001b[0;32m      2\u001b[0m     \u001b[38;5;124;03m\"\"\"                  \u001b[39;00m\n\u001b[0;32m      3\u001b[0m \u001b[38;5;124;03m    Scalar implemenation of the Heaviside step function.\u001b[39;00m\n\u001b[0;32m      4\u001b[0m \u001b[38;5;124;03m    \"\"\"\u001b[39;00m\n\u001b[1;32m----> 5\u001b[0m     \u001b[38;5;28;01mif\u001b[39;00m \u001b[43mx\u001b[49m\u001b[43m \u001b[49m\u001b[38;5;241;43m>\u001b[39;49m\u001b[38;5;241;43m=\u001b[39;49m\u001b[43m \u001b[49m\u001b[38;5;241;43m0\u001b[39;49m:\n\u001b[0;32m      6\u001b[0m         \u001b[38;5;28;01mreturn\u001b[39;00m \u001b[38;5;241m1\u001b[39m\n\u001b[0;32m      7\u001b[0m     \u001b[38;5;28;01melse\u001b[39;00m:\n",
      "\u001b[1;31mValueError\u001b[0m: The truth value of an array with more than one element is ambiguous. Use a.any() or a.all()"
     ]
    }
   ],
   "source": [
    "def theta(x):           # signature classique \n",
    "    \"\"\"                  \n",
    "    Scalar implemenation of the Heaviside step function.\n",
    "    \"\"\"\n",
    "    if x >= 0:\n",
    "        return 1\n",
    "    else:\n",
    "        return 0\n",
    "    \n",
    "theta_vec = np.vectorize(theta)         # notation fonctionnelle (fonction sur des fonctions)\n",
    "res = theta_vec(np.array([-3,-2,-1,0,1,2,3]))\n",
    "print(res) # [0 0 0 1 1 1 1]"
   ]
  },
  {
   "cell_type": "markdown",
   "metadata": {},
   "source": [
    "## Vérification de l'état de la mémoire"
   ]
  },
  {
   "cell_type": "code",
   "execution_count": 53,
   "metadata": {
    "collapsed": true
   },
   "outputs": [
    {
     "name": "stdout",
     "output_type": "stream",
     "text": [
      "['A', 'B', 'In', 'Out', 'exit', 'i', 'm', 'm1', 'm2', 'm3', 'm4', 'm5', 'm6', 'm7', 'ma', 'mat', 'mnp', 'mnp2', 'mpy', 'mpy2', 'n', 'np', 'os', 'quit', 'res', 'sys', 'theta', 'v0', 'v1', 'v2', 'v3', 'val', 'val0', 'val1']\n",
      "[('A', <class 'numpy.ndarray'>), ('B', <class 'numpy.ndarray'>), ('In', <class 'list'>), ('Out', <class 'dict'>), ('exit', <class 'IPython.core.autocall.ZMQExitAutocall'>), ('i', <class 'int'>), ('m', <class 'numpy.ndarray'>), ('m1', <class 'numpy.ndarray'>), ('m2', <class 'numpy.ndarray'>), ('m3', <class 'numpy.ndarray'>), ('m4', <class 'numpy.ndarray'>), ('m5', <class 'numpy.ndarray'>), ('m6', <class 'numpy.ndarray'>), ('m7', <class 'numpy.ndarray'>), ('ma', <class 'numpy.ndarray'>), ('mat', <class 'numpy.ndarray'>), ('mnp', <class 'numpy.ndarray'>), ('mnp2', <class 'numpy.ndarray'>), ('mpy', <class 'list'>), ('mpy2', <class 'list'>), ('n', <class 'int'>), ('np', <class 'module'>), ('os', <class 'module'>), ('quit', <class 'IPython.core.autocall.ZMQExitAutocall'>), ('res', <class 'numpy.ndarray'>), ('sys', <class 'module'>), ('theta', <class 'function'>), ('v0', <class 'numpy.ndarray'>), ('v1', <class 'numpy.ndarray'>), ('v2', <class 'numpy.ndarray'>), ('v3', <class 'numpy.ndarray'>), ('val', <class 'numpy.float64'>), ('val0', <class 'numpy.int32'>), ('val1', <class 'numpy.float64'>)]\n"
     ]
    }
   ],
   "source": [
    "# dir() => donne aussi les variables d'environnement, il faut filter:\n",
    "print([s for s in dir() if '_' not in s])\n",
    "# pour connaitre le type:\n",
    "print([(s,eval('type({})'.format(s)))  for s in dir() if '_' not in s])\n",
    "# les commandes who et whos sont élégantes mais ne marchent qu'en ipython"
   ]
  },
  {
   "cell_type": "code",
   "execution_count": 55,
   "metadata": {},
   "outputs": [
    {
     "name": "stdout",
     "output_type": "stream",
     "text": [
      "A\t B\t i\t m\t m1\t m2\t m3\t m4\t m5\t \n",
      "m6\t m7\t ma\t mat\t mnp\t mnp2\t mpy\t mpy2\t n\t \n",
      "np\t os\t res\t sys\t theta\t theta_vec\t v0\t v1\t v2\t \n",
      "v3\t val\t val0\t val1\t \n"
     ]
    }
   ],
   "source": [
    "%who"
   ]
  },
  {
   "cell_type": "markdown",
   "metadata": {},
   "source": [
    "## Sauvegarde / chargement depuis numpy\n",
    "\n",
    "C'est la passerelle entre excel et numpy\n",
    "* Excel: save as csv\n",
    "* numpy : loadtxt\n",
    "* Ou l'inverse..."
   ]
  },
  {
   "cell_type": "code",
   "execution_count": 56,
   "metadata": {
    "collapsed": true
   },
   "outputs": [],
   "source": [
    "m5 = np.array([[1, 2], [3, 4]])\n",
    "np.savetxt(\"ma-matrice.txt\", m5)\n",
    "# donne le fichier:\n",
    "# 1.000000000000000000e+00 2.000000000000000000e+00\n",
    "# 3.000000000000000000e+00 4.000000000000000000e+00\n",
    "np.savetxt(\"ma-matrice.txt\", m5, fmt='%.5f', delimiter=',')\n",
    "# donne le fichier:\n",
    "# 1.00000,2.00000\n",
    "# 3.00000,4.00000"
   ]
  },
  {
   "cell_type": "code",
   "execution_count": 57,
   "metadata": {
    "collapsed": true
   },
   "outputs": [],
   "source": [
    "# fonction symétrique de chargement\n",
    "m6 = np.loadtxt(\"ma-matrice.txt\", delimiter=',')"
   ]
  },
  {
   "cell_type": "markdown",
   "metadata": {},
   "source": [
    "## De numpy à python, usage de pickle\n",
    "\n",
    "loadtxt/savetxt: idéal pour numpy...\n",
    "    * Chargement/sauvegarde des matrices, format lisible de l'extérieur si besoin\n",
    "    * Echanges possibles avec d'autres langages: matlab, JAVA...\n",
    "... Mais pour le python en général, on préfère pickle\n",
    "    * Serialization généralisé: pour les valeurs, les objets (dont les matrices), les listes, les dictionnaires...\n",
    "    * Très facile à utiliser\n",
    "    * Utilisé par tout le monde en python... Donc à connaitre\n"
   ]
  },
  {
   "cell_type": "code",
   "execution_count": 58,
   "metadata": {
    "collapsed": true
   },
   "outputs": [
    {
     "name": "stdout",
     "output_type": "stream",
     "text": [
      "[[0.71058082 0.62391231 0.70188207 0.06858872]\n",
      " [0.95617445 0.70112021 0.28523709 0.48389792]\n",
      " [0.49061947 0.26006725 0.72546234 0.41641948]]\n"
     ]
    }
   ],
   "source": [
    "import pickle as pkl     # obligatoire pour pouvoir l'utiliser\n",
    "# sauvegarde d'un dictionnaire\n",
    "pkl.dump({\"m1\":m1, \"m2\":m2}, open(\"deuxmatrices.pkl\",\"wb\"))\n",
    "# chargement de données\n",
    "data = pkl.load(open('deuxmatrices.pkl','rb')) # attention à donner un file + option lecture (pas juste un nom de fichier)\n",
    "print(data['m1']) # accès standard dans les dictionnaires"
   ]
  },
  {
   "cell_type": "markdown",
   "metadata": {},
   "source": [
    "## Matrice et type des données\n",
    "\n",
    "Toutes nos matrices étaient jusqu'ici des matrices de réels. Il est possible de définir (ou de transformer) des matrices qui contiennent des entiers voire des booléens en utilisant la syntaxe ci-dessous:"
   ]
  },
  {
   "cell_type": "code",
   "execution_count": 59,
   "metadata": {
    "collapsed": true
   },
   "outputs": [],
   "source": [
    "# jouer avec les types des éléments internes aux matrices\n",
    "# une matrice d'entier\n",
    "matInt   = np.zeros((5,6), int) # matrice 5x6 de 0 (entiers)\n",
    "matBool  = np.zeros((5,6), bool) # matrice 5x6 de False (booléens)\n",
    "matBool2 = np.ones((5,6), bool) # matrice 5x6 de True (booléens)"
   ]
  },
  {
   "cell_type": "markdown",
   "metadata": {},
   "source": [
    "# Exercices de synthèse\n",
    "## Génération de données et agrégation de matrices\n",
    "\n",
    "Nous souhaitons créer une matrice 10x3 dont la première colonne contient les indices 1 à 10 dans l'ordre. La seconde colonne contiendra des nombres aléatoires entre 0 et 1. La troisième colonne ne contiendra que des 0.\n",
    "Vous ajouterez ensuite une ligne en haut de la matrice contenant les indices de colonne 1 à 3.\n",
    "\n",
    "**NB:** vous pouvez créer des matrices dans des matrices, c'est-à-dire faire appel à des fonctions dans les []. \n",
    "\n",
    "**NB2:** à la fin du processus, on veut un ```np.array```, il faut soit travailler en numpy tout le temps, soit penser à convertir les listes python.\n",
    "\n",
    "Exemple de résultat possible:\n",
    "\n",
    "    1.00000    2.00000    3.00000\n",
    "    1.00000    0.03479    0.00000\n",
    "    2.00000    0.66074    0.00000\n",
    "    3.00000    0.15187    0.00000\n",
    "    4.00000    0.03640    0.00000\n",
    "    5.00000    0.62497    0.00000\n",
    "    6.00000    0.54774    0.00000\n",
    "    7.00000    0.68919    0.00000\n",
    "    8.00000    0.86146    0.00000\n",
    "    9.00000    0.72030    0.00000\n",
    "    10.0000    0.84590    0.00000\n"
   ]
  },
  {
   "cell_type": "code",
   "execution_count": 68,
   "metadata": {},
   "outputs": [
    {
     "name": "stdout",
     "output_type": "stream",
     "text": [
      "[[ 1.          2.          3.        ]\n",
      " [ 1.          0.28197082  0.        ]\n",
      " [ 2.          0.95402725  0.        ]\n",
      " [ 3.          0.80892768  0.        ]\n",
      " [ 4.          0.09512275  0.        ]\n",
      " [ 5.          0.73613012  0.        ]\n",
      " [ 6.          0.80858079  0.        ]\n",
      " [ 7.          0.68884092  0.        ]\n",
      " [ 8.          0.34609323  0.        ]\n",
      " [ 9.          0.17310526  0.        ]\n",
      " [10.          0.18221923  0.        ]]\n"
     ]
    }
   ],
   "source": [
    "import numpy as np\n",
    "ligne=np.arange(1,4)\n",
    "col1=np.vstack(np.arange(1,11,1))\n",
    "col2=np.random.rand(10,1)\n",
    "col3=np.zeros((10,1))\n",
    "matr1=np.hstack((col1,col2,col3))\n",
    "matrfin=np.vstack((ligne,matr1))\n",
    "print(matrfin)"
   ]
  },
  {
   "cell_type": "markdown",
   "metadata": {},
   "source": [
    "## Calcul de moyennes, écarts-types (à la main *vs* fonction numpy)\n",
    "\n",
    "Soit la matrice de donnée suivante:\n",
    "```\n",
    "M = np.array([[8, 3, 7, 3, 2, 7, 9, 1, 2, 9],\n",
    "              [2, 1, 3, 7, 4, 2, 5, 4, 6, 0],\n",
    "              [5, 1, 4, 1, 1, 1, 0, 6, 5, 0]])\n",
    "```\n",
    "\n",
    "Construire la fonction ```stats``` qui prend en argument une matrice et retourne le vecteur contenant les moyennes des colonnes et un second vecteur contenant les écarts-types des colonnes.\n",
    "\n",
    "**Note:** vous ferez les calculs à la main, avec des boucles et vous comparerez les résultats avec les fonctions ```np.mean``` et ```np.std```.\n",
    "\n",
    "**Note 2:** une fonction définie par ```def mafonction(arg):``` peut retourner un tuple, c'est à dire plusieurs résultats agrégés dans une structure simple ```return vec1, vec2```. L'appel (le plus simple) à ma fonction sera de la forme: ```res1, res2 = mafonction(arg)```"
   ]
  },
  {
   "cell_type": "code",
   "execution_count": 71,
   "metadata": {},
   "outputs": [
    {
     "name": "stdout",
     "output_type": "stream",
     "text": [
      "(array([5.1, 3.4, 2.4]), array([3.01496269, 2.10713075, 2.2       ]))\n"
     ]
    }
   ],
   "source": [
    "M = np.array([[8, 3, 7, 3, 2, 7, 9, 1, 2, 9],\n",
    "              [2, 1, 3, 7, 4, 2, 5, 4, 6, 0],\n",
    "              [5, 1, 4, 1, 1, 1, 0, 6, 5, 0]])\n",
    "\n",
    "def stats(matrice):\n",
    "    moyennes=np.mean(matrice,1)\n",
    "    ecart_types=np.std(matrice,1)\n",
    "    \n",
    "    return moyennes,ecart_types  \n",
    "print(stats(M))      "
   ]
  },
  {
   "cell_type": "markdown",
   "metadata": {},
   "source": [
    "## Table de contingence en numpy\n",
    "\n",
    "Construction d'une liste de notes d'étudiants (50 notes entre 0 et 20): l'exercice est le même que celui proposé dans la partie python, mais **à réaliser entièrement dans l'environnement numpy**.\n",
    "\n",
    "* Génération d'un vecteur de notes tirées aléatoirement à l'aide de la fonction: ```np.random.randint``` \n",
    "* Création d'une nouvelle liste comptant combien de note de chaque niveau apparaissent dans la liste (table de contingence)\n",
    "* Création d'une troisième liste contenant toutes les notes supérieures à 10\n",
    "    \n",
    "Affichage des deux listes et vérification\n",
    "\n",
    "Exercice sur la gestion des listes et des boucles."
   ]
  },
  {
   "cell_type": "code",
   "execution_count": 10,
   "metadata": {},
   "outputs": [
    {
     "name": "stdout",
     "output_type": "stream",
     "text": [
      "[ 2 12  8 16  5  6  6 19 16 20  0 11 17 17  4  7 12  7 19 13  1 16 18  5\n",
      "  9 18  2 18  6 14  0  7 13  9  7  4 13  3  0 19  0  6 14  5  8  7  9  0\n",
      "  7  1]\n",
      "[[ 0  5]\n",
      " [ 1  2]\n",
      " [ 2  2]\n",
      " [ 3  1]\n",
      " [ 4  2]\n",
      " [ 5  3]\n",
      " [ 6  4]\n",
      " [ 7  6]\n",
      " [ 8  2]\n",
      " [ 9  3]\n",
      " [11  1]\n",
      " [12  2]\n",
      " [13  3]\n",
      " [14  2]\n",
      " [16  3]\n",
      " [17  2]\n",
      " [18  3]\n",
      " [19  3]\n",
      " [20  1]]\n",
      "[12 16 19 16 20 11 17 17 12 19 13 16 18 18 18 14 13 13 19 14]\n"
     ]
    }
   ],
   "source": [
    "import numpy as np\n",
    "liste_notes=np.random.randint(0,21,50)\n",
    "\n",
    "print(liste_notes)\n",
    "unique,count=np.unique(liste_notes,return_counts=True)\n",
    "unique=np.vstack(unique)\n",
    "count=np.vstack(count)\n",
    "contingence=np.hstack((unique,count))\n",
    "liste_notes_plus_dix=liste_notes[liste_notes>10]\n",
    "print(contingence)\n",
    "print(liste_notes_plus_dix)"
   ]
  },
  {
   "cell_type": "markdown",
   "metadata": {},
   "source": [
    "## Premier contact avec la documentation\n",
    "\n",
    "Vous allez générer la matrice suivante:\n",
    "```\n",
    "[[0 1 2 0 1 2]\n",
    " [0 1 2 0 1 2]\n",
    " [0 1 2 0 1 2]\n",
    " [0 1 2 0 1 2]\n",
    " [0 1 2 0 1 2]\n",
    " [0 1 2 0 1 2]\n",
    " [0 1 2 0 1 2]\n",
    " [0 1 2 0 1 2]\n",
    " [0 1 2 0 1 2]\n",
    " [0 1 2 0 1 2]]\n",
    "```\n",
    "Cette génération peut se faire en une ligne à condition d'utiliser la fonction ```np.tile``` dont la documentation se trouve : \n",
    "https://numpy.org/doc/stable/reference/generated/numpy.tile.html\n",
    "\n",
    "Au-delà de la question formelle, l'enjeu est d'apprendre à se servir de la documentation de numpy."
   ]
  },
  {
   "cell_type": "code",
   "execution_count": 12,
   "metadata": {},
   "outputs": [
    {
     "name": "stdout",
     "output_type": "stream",
     "text": [
      "[[0 1 2 0 1 2]\n",
      " [0 1 2 0 1 2]\n",
      " [0 1 2 0 1 2]\n",
      " [0 1 2 0 1 2]\n",
      " [0 1 2 0 1 2]\n",
      " [0 1 2 0 1 2]\n",
      " [0 1 2 0 1 2]\n",
      " [0 1 2 0 1 2]\n",
      " [0 1 2 0 1 2]\n",
      " [0 1 2 0 1 2]]\n"
     ]
    }
   ],
   "source": [
    "motif=np.array([0,1,2])\n",
    "mosaique=np.tile(motif,(10,2))\n",
    "print(mosaique)"
   ]
  },
  {
   "cell_type": "markdown",
   "metadata": {},
   "source": [
    "# Manipulation standard de matrices\n",
    "\n",
    "1. Générer une matrice ```10x3``` de valeurs distribuées selon une loi normale centrée réduite (```np.random.randn```)\n",
    "1. Faites en sorte que l'écart-type des données passe à 4 et vérifier que c'est le approximativement cas avec la fonction ```np.std```\n",
    "1. Centrer la première colonne sur 10, la seconde sur 12 et la troisième sur 14. Vérifier que les moyennes sont bonnes avec ```np.mean(axis=0)``` <BR> **NB:** il est impératif de travailler sur la dispersion avant le centrage (vérifiez cette affirmation en inversant les deux réponses si vous avez un doute)\n",
    "1. Seuiller toutes les valeurs inférieures à 5 avec ```np.maximum```\n",
    "1. Seuiller toutes les valeurs supérieures à 18\n",
    "1. Compter combien de valeurs se situent entre 8 et 12 (exclus)"
   ]
  },
  {
   "cell_type": "markdown",
   "metadata": {},
   "source": []
  },
  {
   "cell_type": "code",
   "execution_count": 51,
   "metadata": {},
   "outputs": [
    {
     "name": "stdout",
     "output_type": "stream",
     "text": [
      "4.7933826488771265\n",
      "9.679888386105825\n",
      "13.298919225573542\n",
      "14.132498096815292\n",
      "[[ 6.17493391  9.39827184  5.73285818]\n",
      " [15.81837504 22.60146373 22.69409391]\n",
      " [ 7.71311472 21.92262919 13.59683159]\n",
      " [ 5.1690481   6.63984156 13.19975356]\n",
      " [13.7410667  14.58101891 11.99088411]\n",
      " [13.20562129 11.8449396  16.84919635]\n",
      " [16.4248739  12.02395044 16.87925225]\n",
      " [ 1.10831912 14.63330581 15.1791006 ]\n",
      " [ 9.03323066 13.34542599 12.56613309]\n",
      " [ 8.41030043  5.99834519 12.63687733]]\n",
      "(array([1, 1, 1, 2, 2, 3, 4, 4, 5, 5, 6, 6, 6, 7, 7, 8, 8, 9], dtype=int64), array([0, 1, 2, 1, 2, 2, 0, 1, 0, 2, 0, 1, 2, 1, 2, 1, 2, 2], dtype=int64))\n"
     ]
    }
   ],
   "source": [
    "matrice_random=4*np.random.randn(10,3)\n",
    "print(np.std(matrice_random))\n",
    "matrice_random[:,0]+=10\n",
    "matrice_random[:,1]+=12\n",
    "matrice_random[:,2]+=14\n",
    "print(np.mean(matrice_random[:,0]))\n",
    "print(np.mean(matrice_random[:,1]))\n",
    "print(np.mean(matrice_random[:,2]))\n",
    "np.maximum(5,matrice_random)\n",
    "np.minimum(18,matrice_random)\n",
    "print(matrice_random)\n",
    "np.count_nonzero(np.logical_and(matrice_random>8,matrice_random<12))\n",
    "print(np.where(matrice_random>12))"
   ]
  },
  {
   "cell_type": "markdown",
   "metadata": {},
   "source": [
    "# Travail en plus grande dimension\n",
    "\n",
    "numpy ne vous limite pas à 2 dimensions...\n",
    "1. Créer un cube ```C``` de dimension ```4x3x2``` (avec la fonction ```np.zeros``` par exemple). Dans la suite on choisira de voire cette structure de données comme 4 matrices ```3x2```. Vérifier que vous pouvez acceder à la matrice ```i``` par la commande ```C[i]```.\n",
    "1. Remplir ce cube avec 15 valeurs aléatoires tirées entre 0 et 10 et positionnées dans des cases aléatoires\n",
    "1. Diviser le cube par des facteurs de normalisation de sorte à ce que chaque matrice ```3x2``` ait une somme de ```1```. Afficher les matrices pour vérifier *à l'oeil* que les sommes sont bonnes.\n",
    "1. Remplacer la sous-matrice ```2``` par une matrice remplie de 1.\n",
    "\n"
   ]
  },
  {
   "cell_type": "code",
   "execution_count": 60,
   "metadata": {},
   "outputs": [
    {
     "name": "stdout",
     "output_type": "stream",
     "text": [
      "[ 2  8  4  6  9  4  2  9 10  3  2  0  9  7  1]\n",
      "[ 2.  8.  4.  6.  9.  4.  2.  9. 10.  3.  2.  0.  9.  7.  1.  0.  0.  0.\n",
      "  0.  0.  0.  0.  0.  0.]\n",
      "[[[ 0.  2.]\n",
      "  [ 9.  0.]\n",
      "  [ 0.  2.]]\n",
      "\n",
      " [[ 0.  0.]\n",
      "  [ 0.  0.]\n",
      "  [10.  8.]]\n",
      "\n",
      " [[ 6.  7.]\n",
      "  [ 2.  0.]\n",
      "  [ 1.  9.]]\n",
      "\n",
      " [[ 0.  9.]\n",
      "  [ 0.  4.]\n",
      "  [ 3.  4.]]]\n"
     ]
    }
   ],
   "source": [
    "CUBE=np.zeros((4,3,2))\n",
    "cube_plat=CUBE.flatten()\n",
    "remplacement=np.random.randint(0,11,15)\n",
    "print(remplacement)\n",
    "cube_plat[:15]=remplacement\n",
    "print(cube_plat)\n",
    "cube_shuffle=np.random.shuffle(cube_plat)\n",
    "CUBE=np.reshape(cube_plat,(4,3,2))\n",
    "print(CUBE)\n"
   ]
  },
  {
   "cell_type": "markdown",
   "metadata": {},
   "source": [
    "### Traduction de matrice\n",
    "* Générer une matrice aléatoire `m` de taille (15,2) contenant des indices aléatoires entre 0 et 3.\n",
    "* Construire le dictionnaire `dico` {1:'titi', 2:'toto', ...}\n",
    "* La méthode `get` du dictionnaire permet de traduire une valeur de `m`\n",
    "* Utiliser la commande `np.vectorize` pour traduire en une ligne et sans boucle toute la matrice `m` en une matrice `mtxt`"
   ]
  },
  {
   "cell_type": "code",
   "execution_count": null,
   "metadata": {
    "collapsed": true
   },
   "outputs": [],
   "source": []
  },
  {
   "cell_type": "code",
   "execution_count": null,
   "metadata": {},
   "outputs": [],
   "source": []
  }
 ],
 "metadata": {
  "kernelspec": {
   "display_name": "Python 3.10.6 ('env_de_base')",
   "language": "python",
   "name": "python3"
  },
  "language_info": {
   "codemirror_mode": {
    "name": "ipython",
    "version": 3
   },
   "file_extension": ".py",
   "mimetype": "text/x-python",
   "name": "python",
   "nbconvert_exporter": "python",
   "pygments_lexer": "ipython3",
   "version": "3.10.6"
  },
  "vscode": {
   "interpreter": {
    "hash": "ef85adf4b467a204a022786f77cb16ffa45d84839ac133ab5a193268c2eb5bf8"
   }
  }
 },
 "nbformat": 4,
 "nbformat_minor": 2
}
