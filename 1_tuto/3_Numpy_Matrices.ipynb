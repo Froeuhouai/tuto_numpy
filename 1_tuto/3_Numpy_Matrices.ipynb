{
 "cells": [
  {
   "cell_type": "markdown",
   "metadata": {},
   "source": [
    "# Calcul matriciel et pièges en numpy\n",
    "\n",
    "Un des principaux défauts de ```numpy``` (par rapport à des environnement comme Matlab par exemple) est la **différentiation entre les vecteurs et les matrices**... Cet aspect va poser de nombreux problèmes.\n",
    "\n",
    "Le second défaut réside dans le **dispatch dynamique**: python essaie de faire marcher les calculs, même quand les dimensions des matrices sont incompatibles... Ca fait gagner un peu de temps parfois... Et ça crée des bugs insurmontables d'autres fois."
   ]
  },
  {
   "cell_type": "code",
   "execution_count": 1,
   "metadata": {},
   "outputs": [],
   "source": [
    "import numpy as np"
   ]
  },
  {
   "cell_type": "markdown",
   "metadata": {},
   "source": [
    "# Produit matriciel\n",
    "\n",
    "Il ne faut pas confondre le produit terme à terme, entre matrices de mêmes dimensions et le produit matriciel qui est un ensemble de produits scalaires. \n",
    "Dans le produit matriciel, le nombre de colonne de la première matrice doit correspondre au nombre de ligne de la seconde/\n",
    "\n",
    "\n",
    "<img src=\"./ressources/matrix_mult.png\">\n",
    "\n",
    "$$ {\\color {red}c_{{12}}}=\\sum _{{r=1}}^{2}a_{{1r}}b_{{r2}}=a_{{11}}b_{{12}}+a_{{12}}b_{{22}}$$\n",
    "\n",
    "$$ {\\color {blue}c_{{33}}}=\\sum _{{r=1}}^{2}a_{{3r}}b_{{r3}}=a_{{31}}b_{{13}}+a_{{32}}b_{{23}}$$"
   ]
  },
  {
   "cell_type": "code",
   "execution_count": 2,
   "metadata": {},
   "outputs": [
    {
     "name": "stdout",
     "output_type": "stream",
     "text": [
      "A= [[0. 1.]\n",
      " [2. 3.]\n",
      " [4. 5.]\n",
      " [6. 7.]] \n",
      " B= [[5. 4. 3.]\n",
      " [2. 1. 0.]]\n",
      "[[ 2.  1.  0.]\n",
      " [16. 11.  6.]\n",
      " [30. 21. 12.]\n",
      " [44. 31. 18.]]\n"
     ]
    }
   ],
   "source": [
    "A = np.array([[0., 1], [2, 3], [4, 5], [6, 7]])\n",
    "B = np.array([[5., 4, 3], [2, 1, 0]])\n",
    "print(\"A=\",A,\"\\n B=\",B)\n",
    "\n",
    "# calcul de produit matriciel, par différents moyens\n",
    "C  = A@B # le plus clair d'après moi\n",
    "C2 = A.dot(B)\n",
    "\n",
    "print(C)"
   ]
  },
  {
   "cell_type": "code",
   "execution_count": 3,
   "metadata": {},
   "outputs": [
    {
     "ename": "ValueError",
     "evalue": "matmul: Input operand 1 has a mismatch in its core dimension 0, with gufunc signature (n?,k),(k,m?)->(n?,m?) (size 3 is different from 2)",
     "output_type": "error",
     "traceback": [
      "\u001b[1;31m---------------------------------------------------------------------------\u001b[0m",
      "\u001b[1;31mValueError\u001b[0m                                Traceback (most recent call last)",
      "Cell \u001b[1;32mIn [3], line 6\u001b[0m\n\u001b[0;32m      3\u001b[0m A \u001b[38;5;241m=\u001b[39m np\u001b[38;5;241m.\u001b[39marray([[\u001b[38;5;241m0.\u001b[39m, \u001b[38;5;241m1\u001b[39m], [\u001b[38;5;241m2\u001b[39m, \u001b[38;5;241m3\u001b[39m], [\u001b[38;5;241m4\u001b[39m, \u001b[38;5;241m5\u001b[39m], [\u001b[38;5;241m6\u001b[39m, \u001b[38;5;241m7\u001b[39m]])\n\u001b[0;32m      4\u001b[0m M \u001b[38;5;241m=\u001b[39m np\u001b[38;5;241m.\u001b[39marray([[\u001b[38;5;241m0.\u001b[39m, \u001b[38;5;241m1\u001b[39m], [\u001b[38;5;241m2\u001b[39m, \u001b[38;5;241m3\u001b[39m], [\u001b[38;5;241m4\u001b[39m, \u001b[38;5;241m5\u001b[39m]])\n\u001b[1;32m----> 6\u001b[0m \u001b[38;5;28mprint\u001b[39m(\u001b[43mA\u001b[49m\u001b[38;5;129;43m@M\u001b[39;49m)\n",
      "\u001b[1;31mValueError\u001b[0m: matmul: Input operand 1 has a mismatch in its core dimension 0, with gufunc signature (n?,k),(k,m?)->(n?,m?) (size 3 is different from 2)"
     ]
    }
   ],
   "source": [
    "# test sur des matrices incompatibles (matriciel)\n",
    "\n",
    "A = np.array([[0., 1], [2, 3], [4, 5], [6, 7]])\n",
    "M = np.array([[0., 1], [2, 3], [4, 5]])\n",
    "\n",
    "print(A@M)"
   ]
  },
  {
   "cell_type": "code",
   "execution_count": null,
   "metadata": {},
   "outputs": [],
   "source": [
    "# et le produit terme à terme, uniquement entre matrices de même dimension\n",
    "\n",
    "A = np.array([[0., 1], [2, 3], [4, 5], [6, 7]])\n",
    "A2 = np.array([[1., 2], [2, 1], [1, 2], [2, 1]])\n",
    "\n",
    "print(A*A2)"
   ]
  },
  {
   "cell_type": "code",
   "execution_count": 4,
   "metadata": {},
   "outputs": [
    {
     "ename": "ValueError",
     "evalue": "operands could not be broadcast together with shapes (4,2) (2,3) ",
     "output_type": "error",
     "traceback": [
      "\u001b[1;31m---------------------------------------------------------------------------\u001b[0m",
      "\u001b[1;31mValueError\u001b[0m                                Traceback (most recent call last)",
      "Cell \u001b[1;32mIn [4], line 3\u001b[0m\n\u001b[0;32m      1\u001b[0m \u001b[38;5;66;03m# test sur des données incompatibles (terme à terme)\u001b[39;00m\n\u001b[1;32m----> 3\u001b[0m C3 \u001b[38;5;241m=\u001b[39m \u001b[43mA\u001b[49m\u001b[38;5;241;43m*\u001b[39;49m\u001b[43mB\u001b[49m\n",
      "\u001b[1;31mValueError\u001b[0m: operands could not be broadcast together with shapes (4,2) (2,3) "
     ]
    }
   ],
   "source": [
    "# test sur des données incompatibles (terme à terme)\n",
    "\n",
    "C3 = A*B # tournure historiquement très ambigue : \n",
    "# heureusement, ne marche plus sur les nouvelles versions de python\n",
    "# le * est maintenant réservé aux mutliplications terme à terme"
   ]
  },
  {
   "cell_type": "markdown",
   "metadata": {},
   "source": [
    "## Types de données"
   ]
  },
  {
   "cell_type": "code",
   "execution_count": 5,
   "metadata": {},
   "outputs": [
    {
     "name": "stdout",
     "output_type": "stream",
     "text": [
      "(10,)\n"
     ]
    }
   ],
   "source": [
    "# Les commandes ci-dessous créent des vecteurs\n",
    "\n",
    "v1=np.random.rand(10)\n",
    "v2=np.array([1, 4, 18])\n",
    "v3=np.ones(12)\n",
    "\n",
    "print(v1.shape)"
   ]
  },
  {
   "cell_type": "code",
   "execution_count": 6,
   "metadata": {},
   "outputs": [
    {
     "name": "stdout",
     "output_type": "stream",
     "text": [
      "(10, 2)\n"
     ]
    }
   ],
   "source": [
    "# Les commandes ci-dessous créent des matrices\n",
    "\n",
    "m1=np.random.rand(10,2)\n",
    "m2=np.array([[1, 4, 18],[2, 4, 6]])\n",
    "m3=np.ones((12,2))\n",
    "\n",
    "print(m1.shape)"
   ]
  },
  {
   "cell_type": "code",
   "execution_count": 7,
   "metadata": {},
   "outputs": [
    {
     "name": "stdout",
     "output_type": "stream",
     "text": [
      "v2 et m2 ne sont pas du même type:  (3,) (1, 3)\n"
     ]
    }
   ],
   "source": [
    "# Cas limite\n",
    "\n",
    "v2 = np.array([1, 4, 18])\n",
    "# et \n",
    "m2 = np.array([[1, 4, 18]])\n",
    "\n",
    "print(\"v2 et m2 ne sont pas du même type: \", v2.shape, m2.shape)"
   ]
  },
  {
   "cell_type": "code",
   "execution_count": 8,
   "metadata": {},
   "outputs": [
    {
     "name": "stdout",
     "output_type": "stream",
     "text": [
      "(10,) (10, 2)\n",
      "(10, 1)\n"
     ]
    }
   ],
   "source": [
    "# extraire une ligne ou une colonne => générer un vecteur (et pas une matrice)\n",
    "# => nous sommes obligé de jongler avec les types de données\n",
    "\n",
    "m1 = np.random.rand(10,3)\n",
    "v4 = m1[:,1]   # extraction d'une colonne => vecteur\n",
    "m4 = m1[:,1:3] # extraction de deux colonnes => matrice\n",
    "x1 = m1[:,1:2] # extraction d'une seule colonnes, mais en syntaxe matricielle => ???\n",
    "\n",
    "print(v4.shape, m4.shape)\n",
    "print(x1.shape) # => matrice !!"
   ]
  },
  {
   "cell_type": "markdown",
   "metadata": {},
   "source": [
    "### Pourquoi ces différences de types posent problème?"
   ]
  },
  {
   "cell_type": "code",
   "execution_count": 9,
   "metadata": {},
   "outputs": [
    {
     "name": "stdout",
     "output_type": "stream",
     "text": [
      "[[ 2.]\n",
      " [ 8.]\n",
      " [14.]\n",
      " [20.]]\n",
      "[ 2.  8. 14. 20.]\n",
      "[[ 2.]\n",
      " [ 8.]\n",
      " [14.]\n",
      " [20.]]\n",
      "[ 2.  8. 14. 20.]\n",
      "\n",
      "\n",
      "[[ 0.  2.]\n",
      " [ 2.  6.]\n",
      " [ 4. 10.]\n",
      " [ 6. 14.]]\n",
      "[[ 0.  2.]\n",
      " [ 2.  6.]\n",
      " [ 4. 10.]\n",
      " [ 6. 14.]]\n"
     ]
    }
   ],
   "source": [
    "A     = np.array([[0., 1], [2, 3], [4, 5], [6, 7]])\n",
    "B_col = np.array([[1.], [2]]) # matrice (=en forme de vecteur colonne)\n",
    "B_li  = np.array([[1., 2]])   # matrice (=en forme de vecteur ligne)\n",
    "B_vec = np.array([1., 2])     # vecteur\n",
    "\n",
    "# print(A@B_li) # KO pour les dimensions => raisonnable, mais attention aux versions de python\n",
    "print(A@B_col)\n",
    "print(A@B_vec) # les résultats n'ont pas les mêmes dimensions\n",
    "print(A.dot(B_col))\n",
    "print(A.dot(B_vec)) # les résultats n'ont pas les mêmes dimensions\n",
    "\n",
    "print(\"\\n\")\n",
    "\n",
    "# print(A*B_col) # Erreur => c'est logique\n",
    "print(A*B_li)    # Catastrophe => ca ne fait pas d'erreur\n",
    "print(A*B_vec)   # Catastrophe => ca ne fait pas d'erreur"
   ]
  },
  {
   "cell_type": "code",
   "execution_count": 10,
   "metadata": {},
   "outputs": [
    {
     "name": "stdout",
     "output_type": "stream",
     "text": [
      "[[5.]]\n",
      "5.0\n",
      "[5.]\n"
     ]
    }
   ],
   "source": [
    "B_col = np.array([[1.], [2]]) # matrice (=en forme de vecteur colonne)\n",
    "B_li  = np.array([[1., 2]])   # matrice (=en forme de vecteur ligne)\n",
    "B_vec = np.array([1., 2])     #\n",
    "\n",
    "print(B_li@B_col) # le calcul est propre... Et renvoie une matrice\n",
    "# print(B_li@B_li)  # KO\n",
    "print(B_vec@B_vec) # produit scalaire\n",
    "print(B_vec@B_col) # renvoie un vecteur\n"
   ]
  },
  {
   "cell_type": "code",
   "execution_count": 11,
   "metadata": {},
   "outputs": [
    {
     "name": "stdout",
     "output_type": "stream",
     "text": [
      "[[1. 2.]\n",
      " [2. 4.]]\n",
      "[[1. 4.]]\n",
      "[[1. 2.]\n",
      " [2. 4.]]\n"
     ]
    }
   ],
   "source": [
    "# tentons dans l'autre sens\n",
    "# \n",
    "print(B_col @ B_li) # renvoie une matrice (OK)\n",
    "# print(B_col @ B_vec) # KO : alors qu'on  voudrait intuitivement que ça marche\n",
    "print(B_vec * B_li) # OK\n",
    "print(B_vec * B_col) # => WAOUH , carrement n'importe quoi !!"
   ]
  },
  {
   "cell_type": "markdown",
   "metadata": {},
   "source": [
    "## Dispatch dynamique\n",
    "\n",
    "Beaucoup de comportements étranges sont liés à cette fonctionnalité. Partons d'un exemple simple et étudions les différentes solutions pratiques:\n",
    "\n",
    "    # Soit la matrice A:\n",
    "    A = np.array([[0., 1], [2, 3], [4, 5], [6, 7]])\n",
    "    # Je souhaite multiplier chaque ligne par le vecteur [1,2]"
   ]
  },
  {
   "cell_type": "code",
   "execution_count": 12,
   "metadata": {},
   "outputs": [],
   "source": [
    "# Soit la matrice A:\n",
    "A = np.array([[0., 1], [2, 3], [4, 5], [6, 7]])\n",
    "\n",
    "# Je souhaite multiplier chaque ligne par le vecteur [1,2]\n"
   ]
  },
  {
   "cell_type": "code",
   "execution_count": 13,
   "metadata": {},
   "outputs": [
    {
     "name": "stdout",
     "output_type": "stream",
     "text": [
      "[[ 0.  2.]\n",
      " [ 2.  6.]\n",
      " [ 4. 10.]\n",
      " [ 6. 14.]]\n"
     ]
    }
   ],
   "source": [
    "# solution 1: developpeur standard avec des boucles\n",
    "\n",
    "B = A.copy()\n",
    "for ligne in B:\n",
    "    ligne *= [1,2]\n",
    "print(B)"
   ]
  },
  {
   "cell_type": "code",
   "execution_count": 14,
   "metadata": {},
   "outputs": [
    {
     "name": "stdout",
     "output_type": "stream",
     "text": [
      "[[ 0.  2.]\n",
      " [ 2.  6.]\n",
      " [ 4. 10.]\n",
      " [ 6. 14.]]\n"
     ]
    }
   ],
   "source": [
    "# solution 2: raisonnement matriciel, je veux juste multiplier la seconde colonne\n",
    "B = A.copy()\n",
    "B[:,1] *= 2\n",
    "print(B)"
   ]
  },
  {
   "cell_type": "code",
   "execution_count": 15,
   "metadata": {},
   "outputs": [
    {
     "name": "stdout",
     "output_type": "stream",
     "text": [
      "[[ 0.  2.]\n",
      " [ 2.  6.]\n",
      " [ 4. 10.]\n",
      " [ 6. 14.]]\n"
     ]
    }
   ],
   "source": [
    "# solution 3: je crée une matrice pour ensuite faire une multiplication terme à terme\n",
    "\n",
    "M = np.ones((4,2))\n",
    "M[:,1] *= 2\n",
    "B = A*M\n",
    "print(B)"
   ]
  },
  {
   "cell_type": "code",
   "execution_count": 16,
   "metadata": {},
   "outputs": [
    {
     "name": "stdout",
     "output_type": "stream",
     "text": [
      "[[ 0.  2.]\n",
      " [ 2.  6.]\n",
      " [ 4. 10.]\n",
      " [ 6. 14.]]\n"
     ]
    }
   ],
   "source": [
    "# solution 4: dispatch dynamique\n",
    "# ça ne devrait pas marcher... MAIS\n",
    "#   1. python détecte que le nb de colonne est compatible\n",
    "#   2. python applique l'opération sur chaque ligne automatiquement\n",
    "#   => pratique... Mais risqué: il faut connaitre ce truc pour détecter les bugs associés\n",
    "\n",
    "B = A * [1,2]\n",
    "print(B)"
   ]
  },
  {
   "cell_type": "code",
   "execution_count": 17,
   "metadata": {},
   "outputs": [
    {
     "name": "stdout",
     "output_type": "stream",
     "text": [
      "[[ 0.  1.]\n",
      " [ 4.  6.]\n",
      " [12. 15.]\n",
      " [24. 28.]]\n"
     ]
    }
   ],
   "source": [
    "# pour faire la même chose sur les colonnes\n",
    "# à multiplier par [1, 2, 3, 4]\n",
    "\n",
    "B = A * [[1],[2],[3],[4]] # il faut présenter un vecteur colonne \n",
    "print(B)"
   ]
  },
  {
   "cell_type": "markdown",
   "metadata": {},
   "source": [
    "## <span style=\"color:red\"> EXO produit divers</span>\n",
    "\n",
    "Soit une matrice de dimension $(n,d)$ remplie de 1. Chercher la formule qui permet de passer à une matrice $[1,2,...,d]$ répété respectivement sur les lignes ou les colonnes:\n",
    "\n",
    "$ M = \\begin{pmatrix}\n",
    "1 & 1 & \\ldots &1 \\\\\n",
    "1 & 1 & \\ldots & 1 \\\\\n",
    "\\vdots &  \\vdots & \\ddots & \\vdots \\\\\n",
    "1 & 1 & \\ldots & 1 \\\\\n",
    "\\end{pmatrix} \n",
    "\\Rightarrow \n",
    "\\begin{pmatrix}\n",
    "1 & 2 & \\ldots &d \\\\\n",
    "1 & 2 & \\ldots & d \\\\\n",
    "\\vdots &  \\vdots & \\ddots & \\vdots \\\\\n",
    "1 & 2 & \\ldots & d \\\\\n",
    "\\end{pmatrix} \\text{ ou }\n",
    "\\begin{pmatrix}\n",
    "1 & 1 & \\ldots &1 \\\\\n",
    "2 & 2 & \\ldots & 2 \\\\\n",
    "\\vdots &  \\vdots & \\ddots & \\vdots \\\\\n",
    "n & n & \\ldots & n \\\\\n",
    "\\end{pmatrix}$"
   ]
  },
  {
   "cell_type": "code",
   "execution_count": 38,
   "metadata": {},
   "outputs": [
    {
     "name": "stdout",
     "output_type": "stream",
     "text": [
      "[[1. 2. 3. 4. 5. 6. 7. 8.]\n",
      " [1. 2. 3. 4. 5. 6. 7. 8.]\n",
      " [1. 2. 3. 4. 5. 6. 7. 8.]\n",
      " [1. 2. 3. 4. 5. 6. 7. 8.]\n",
      " [1. 2. 3. 4. 5. 6. 7. 8.]\n",
      " [1. 2. 3. 4. 5. 6. 7. 8.]\n",
      " [1. 2. 3. 4. 5. 6. 7. 8.]\n",
      " [1. 2. 3. 4. 5. 6. 7. 8.]]\n",
      "[[1. 1. 1. 1. 1. 1. 1. 1.]\n",
      " [2. 2. 2. 2. 2. 2. 2. 2.]\n",
      " [3. 3. 3. 3. 3. 3. 3. 3.]\n",
      " [4. 4. 4. 4. 4. 4. 4. 4.]\n",
      " [5. 5. 5. 5. 5. 5. 5. 5.]\n",
      " [6. 6. 6. 6. 6. 6. 6. 6.]\n",
      " [7. 7. 7. 7. 7. 7. 7. 7.]\n",
      " [8. 8. 8. 8. 8. 8. 8. 8.]]\n"
     ]
    }
   ],
   "source": [
    "M=np.ones((8,8))\n",
    "\"\"\"N=np.array(([1,0,0,0,0,0,0,0],\n",
    "           [0,2,0,0,0,0,0,0],\n",
    "           [0,0,3,0,0,0,0,0],\n",
    "           [0,0,0,4,0,0,0,0],\n",
    "           [0,0,0,0,5,0,0,0],\n",
    "           [0,0,0,0,0,6,0,0],\n",
    "           [0,0,0,0,0,0,7,0],\n",
    "           [0,0,0,0,0,0,0,8]))\"\"\"\n",
    "N=np.array([1,2,3,4,5,6,7,8])\n",
    "print(M*N)\n",
    "print((N*M).T)\n",
    "#faut que pour N la somme des colonnes soit égal à l'indice +1"
   ]
  },
  {
   "cell_type": "markdown",
   "metadata": {},
   "source": [
    "## <span style=\"color:red\"> EXO Evaluation d'une fonction linéaire</span>\n",
    "\n",
    "Soit une matrice $X$ de dimension $(n,d)$ stockant $n$ échantillon $\\mathbf x_i \\in \\mathbb R^d$ et un vecteur de paramètres $w \\in \\mathbb R^d$, \n",
    "\n",
    "$ X = \\begin{pmatrix}\n",
    "x_{11} & x_{12} & \\ldots & x_{1d} \\\\\n",
    "x_{21} & x_{22} & \\ldots & x_{2d} \\\\\n",
    "\\vdots &  \\vdots & \\ddots & \\vdots \\\\\n",
    "x_{n1} & x_{n2} & \\ldots & x_{nd} \\\\\n",
    "\\end{pmatrix} \n",
    "\\qquad\n",
    "W = \\begin{pmatrix}\n",
    "w_{1} & w_{2} & \\ldots & w_{d} \n",
    "\\end{pmatrix} \n",
    "$\n",
    "\n",
    "Calculer l'ensemble : $\\forall i, f(\\mathbf x_i) = \\sum_{j=1}^d x_{ij} w_j $\n",
    "Cet ensemble sera stocké dans un vecteur."
   ]
  },
  {
   "cell_type": "code",
   "execution_count": 33,
   "metadata": {},
   "outputs": [
    {
     "name": "stdout",
     "output_type": "stream",
     "text": [
      "[14.60143122 22.85353289 19.49275029 19.73970254 22.00133607 29.25675736\n",
      " 29.69988132 23.09093416 16.72303769 16.15586465 17.82568914 30.68130028\n",
      " 23.46713442 15.97487149 25.62426922 24.04411936 21.09414281 27.87101329\n",
      " 26.66611964 23.90079085 21.67014433 19.93977299 25.0924835  16.53421908\n",
      " 14.42997208 17.79629299 18.09393995 28.62385528 27.77415429 24.59433516\n",
      " 23.24096438 18.10258603 18.30099402  9.81035747 23.53796387 19.01597981\n",
      " 17.97980313 19.62620675 18.8439676  19.69269579 26.03418516 24.55468252\n",
      " 22.35194956 31.90676455 22.09335445 21.73346314 23.17173614 25.12312508\n",
      " 29.09369167 25.10315344 15.64459925 22.94159548 18.63339177 25.4621978\n",
      " 26.4122006  24.3792796  13.5632725  29.59140593 36.23735934 22.0612412\n",
      " 19.98513327 27.43440681 25.47838019 28.27064475 21.36984927 30.69548087\n",
      " 19.86880697 19.12426665 20.22986317 22.96823027 18.46497774 19.96786224\n",
      " 21.16396438 25.69534381 25.8130571  15.28945924 28.12781328 25.46439373\n",
      " 22.39577302 22.56811894 17.78014239 26.56819099 26.7563081  24.87217171\n",
      " 18.84731048 20.28601436 25.11076943 20.32173634 15.16097448 18.05791041\n",
      " 19.85611529 17.8016955  13.67855635 20.84844798 27.6662702   9.65938192\n",
      " 18.19420793 22.08290167 20.65964384 32.04069361]\n"
     ]
    }
   ],
   "source": [
    "n = 100\n",
    "d = 10\n",
    "X = np.random.rand(n,d)\n",
    "#X=np.ones((n,d))\n",
    "W = np.arange(d)\n",
    "C=X*W\n",
    "D=np.sum(C,axis=1)\n",
    "print(D)\n"
   ]
  },
  {
   "cell_type": "code",
   "execution_count": null,
   "metadata": {},
   "outputs": [],
   "source": []
  }
 ],
 "metadata": {
  "kernelspec": {
   "display_name": "Python 3.10.6 ('env_de_base')",
   "language": "python",
   "name": "python3"
  },
  "language_info": {
   "codemirror_mode": {
    "name": "ipython",
    "version": 3
   },
   "file_extension": ".py",
   "mimetype": "text/x-python",
   "name": "python",
   "nbconvert_exporter": "python",
   "pygments_lexer": "ipython3",
   "version": "3.10.7"
  },
  "vscode": {
   "interpreter": {
    "hash": "ef85adf4b467a204a022786f77cb16ffa45d84839ac133ab5a193268c2eb5bf8"
   }
  }
 },
 "nbformat": 4,
 "nbformat_minor": 2
}
