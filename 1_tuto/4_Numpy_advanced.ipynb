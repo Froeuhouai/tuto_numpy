{
 "cells": [
  {
   "cell_type": "markdown",
   "metadata": {},
   "source": [
    "# Trucs et astuces plus avancés en numpy\n",
    "\n",
    "## Fonction de recherche `np.where`\n",
    "\n",
    "Rechercher des valeurs et sélectionner des portions de matrices est un exercice récurrent en sciences des données. Apprenons à le faire de différentes manières."
   ]
  },
  {
   "cell_type": "code",
   "execution_count": 1,
   "metadata": {},
   "outputs": [],
   "source": [
    "import numpy as np"
   ]
  },
  {
   "cell_type": "code",
   "execution_count": 3,
   "metadata": {},
   "outputs": [
    {
     "name": "stdout",
     "output_type": "stream",
     "text": [
      "(array([ 0,  0,  2,  3,  3,  4,  5,  5,  6,  7,  8,  8,  9,  9, 10, 10, 11,\n",
      "       12, 12, 13, 13, 14, 14, 15, 16, 17, 17, 18, 19, 19, 20, 20, 21, 22,\n",
      "       22, 23, 24, 25, 26, 27, 28, 28, 29, 30, 30, 31, 32, 32, 33, 33, 34,\n",
      "       35, 35, 37, 37, 39, 39, 40, 40, 41, 42, 43, 43, 44, 45, 47, 48, 49,\n",
      "       51, 52, 52, 53, 53, 54, 54, 55, 56, 56, 57, 58, 58, 59, 59, 60, 60,\n",
      "       61, 61, 62, 63, 64, 64, 65, 66, 67, 67, 68, 68, 69, 70, 70, 71, 72,\n",
      "       73, 73, 74, 74, 75, 77, 77, 78, 78, 79, 81, 82, 83, 83, 84, 84, 85,\n",
      "       86, 87, 88, 89, 90, 90, 93, 93, 94, 94, 95, 97, 98, 99],\n",
      "      dtype=int64), array([0, 1, 0, 0, 1, 0, 0, 1, 1, 1, 0, 1, 0, 1, 0, 1, 0, 0, 1, 0, 1, 0,\n",
      "       1, 0, 0, 0, 1, 0, 0, 1, 0, 1, 1, 0, 1, 1, 1, 0, 1, 1, 0, 1, 1, 0,\n",
      "       1, 0, 0, 1, 0, 1, 1, 0, 1, 0, 1, 0, 1, 0, 1, 1, 0, 0, 1, 0, 1, 0,\n",
      "       1, 0, 1, 0, 1, 0, 1, 0, 1, 0, 0, 1, 1, 0, 1, 0, 1, 0, 1, 0, 1, 0,\n",
      "       0, 0, 1, 1, 1, 0, 1, 0, 1, 0, 0, 1, 0, 1, 0, 1, 0, 1, 1, 0, 1, 0,\n",
      "       1, 0, 0, 0, 0, 1, 0, 1, 0, 1, 0, 1, 1, 0, 1, 0, 1, 0, 1, 0, 0, 1,\n",
      "       0], dtype=int64))\n",
      "(array([ 0,  2,  3,  4,  5,  8,  9, 10, 11, 12, 13, 14, 15, 16, 17, 18, 19,\n",
      "       20, 22, 25, 28, 30, 31, 32, 33, 35, 37, 39, 40, 42, 43, 44, 47, 49,\n",
      "       52, 53, 54, 55, 56, 58, 59, 60, 61, 62, 63, 64, 67, 68, 69, 70, 71,\n",
      "       73, 74, 77, 78, 79, 81, 82, 83, 84, 85, 87, 90, 93, 94, 95, 97, 99],\n",
      "      dtype=int64),)\n"
     ]
    }
   ],
   "source": [
    "a = np.random.randn(100,2)\n",
    "#print(a)\n",
    "# element de la matrice complète < 0.5\n",
    "index = np.where(a<0.5) # retourne les indices dans (I,J)\n",
    "                        # I: indice des lignes\n",
    "                        # J: indice des colonnes\n",
    "print(index)\n",
    "# recherche dans une colonne\n",
    "index2 = np.where(a[:,0]<0.5)\n",
    "print(index2)\n",
    "# ajouter des print pour comprendre les entrées/sorties!"
   ]
  },
  {
   "cell_type": "markdown",
   "metadata": {},
   "source": [
    "**Attention au type de retour**\n",
    "\n",
    "Le type de `index` est sans surprise... Mais celui de `index2` est plus déroutant: il s'agit d'un tuple mais avec un seul champ rempli...\n",
    "Pour utiliser les indices extraits facilement, il faut donc faire:"
   ]
  },
  {
   "cell_type": "code",
   "execution_count": 5,
   "metadata": {
    "collapsed": true
   },
   "outputs": [
    {
     "name": "stdout",
     "output_type": "stream",
     "text": [
      "[ 0  2  3  4  5  8  9 10 11 12 13 14 15 16 17 18 19 20 22 25 28 30 31 32\n",
      " 33 35 37 39 40 42 43 44 47 49 52 53 54 55 56 58 59 60 61 62 63 64 67 68\n",
      " 69 70 71 73 74 77 78 79 81 82 83 84 85 87 90 93 94 95 97 99]\n"
     ]
    }
   ],
   "source": [
    "index2, = np.where(a[:,0]<0.5) # on ne s'intéresse qu'au premier membre retourné!\n",
    "print(index2)\n",
    "# a[index2,:] = ..."
   ]
  },
  {
   "cell_type": "markdown",
   "metadata": {},
   "source": [
    "## Fonction de recherche en syntaxe légère\n"
   ]
  },
  {
   "cell_type": "code",
   "execution_count": 6,
   "metadata": {},
   "outputs": [
    {
     "name": "stdout",
     "output_type": "stream",
     "text": [
      "[ True  True  True False False False]\n",
      "[[0.58492511 0.34853562]\n",
      " [0.28116847 0.11137951]\n",
      " [0.76268084 0.66544324]\n",
      " [0.55089165 0.97273198]\n",
      " [0.2298755  0.23461798]\n",
      " [0.52571955 0.05757809]]\n",
      "[-1 -1 -1  1  1  1]\n",
      "[[0.58492511 0.34853562]\n",
      " [0.28116847 0.11137951]\n",
      " [0.76268084 0.66544324]]\n"
     ]
    }
   ],
   "source": [
    "y = np.array([-1, -1, -1, 1, 1, 1])\n",
    "x = np.random.rand(6,2)\n",
    "\n",
    "print(y==-1)\n",
    "\n",
    "# sélection des 3 premières lignes de x\n",
    "print(x)\n",
    "print(y)\n",
    "print(x[y==-1])\n",
    "\n",
    "# contraintes logiques: \n",
    "#    - x et y doivent avoir la même taille\n",
    "#    - y doit être un vecteur\n",
    "\n",
    "# sélection des lignes de x qui commencent par un nombre > 0.5\n",
    "#print(x[x[:,0]>0.5])\n"
   ]
  },
  {
   "cell_type": "code",
   "execution_count": null,
   "metadata": {},
   "outputs": [],
   "source": []
  },
  {
   "cell_type": "code",
   "execution_count": null,
   "metadata": {},
   "outputs": [],
   "source": [
    "# TODO : vérifier les dimension de la sélection, vérifier quelles lignes ont été sélectionnée avec des print\n",
    "\n"
   ]
  },
  {
   "cell_type": "markdown",
   "metadata": {},
   "source": [
    "## Transformation de matrice\n",
    "\n",
    "`np.where` permet de renvoyer une matrice transformée en ajoutant des arguments dans la méthode\n",
    "\n",
    "> `np.where(m > alpha, retour_si_vrai, retour_si_faux)`\n",
    "\n",
    "On peut se servir de cette syntaxe pour faire des comptages"
   ]
  },
  {
   "cell_type": "code",
   "execution_count": 7,
   "metadata": {
    "collapsed": true
   },
   "outputs": [],
   "source": [
    "a = np.random.randn(100,2)\n",
    "# Mettre à zeros tous les éléments négatifs:\n",
    "b = np.where(a<0., 0., a)    # (clause, TODO if true, TODO if false)\n",
    "c = np.where(a<0., -1., 1.)  # Extraire le signe des éléments de a\n",
    "\n",
    "nb_elem_pos = np.where(a>0., 1, 0).sum() # construction d'une matrice binaire + somme = comptage"
   ]
  },
  {
   "cell_type": "markdown",
   "metadata": {},
   "source": [
    "## ATTENTION aux doubles clauses\n",
    "\n",
    "il y a un piège dans la priorité donnée aux opérations: il faut ajouter des parenthèses"
   ]
  },
  {
   "cell_type": "code",
   "execution_count": 10,
   "metadata": {},
   "outputs": [
    {
     "name": "stdout",
     "output_type": "stream",
     "text": [
      "3.0\n"
     ]
    },
    {
     "data": {
      "text/plain": [
       "array([0., 0., 0., 1., 0., 0., 0., 0., 0., 0., 0., 0., 1., 0., 0., 0., 0.,\n",
       "       0., 0., 0., 0., 0., 0., 0., 0., 0., 0., 0., 0., 0., 0., 0., 0., 0.,\n",
       "       0., 0., 1., 0., 0., 0., 0., 0., 0., 0., 0., 0., 0., 0., 0., 0., 0.,\n",
       "       0., 0., 0., 0., 0., 0., 0., 0., 0., 0., 0., 0., 0., 0., 0., 0., 0.,\n",
       "       0., 0., 0., 0., 0., 0., 0., 0., 0., 0., 1., 0., 0., 0., 1., 0., 0.,\n",
       "       0., 0., 0., 0., 0., 0., 0., 0., 0., 0., 0., 0., 0., 0., 0.])"
      ]
     },
     "execution_count": 10,
     "metadata": {},
     "output_type": "execute_result"
    }
   ],
   "source": [
    "# pour l'estimation d'une loi jointe entre a et b\n",
    "N = 100\n",
    "a = np.ceil(np.random.rand(N) * 10)   # entre 1 et 10\n",
    "b = np.round(np.random.rand(N))       # 0 ou 1\n",
    "np.where((a == 4) & (b==0), 1., 0.)   # OK\n",
    "# np.where( a == 4  &  b==0 , 1., 0.) # KO !!! => le & est prioritaire sur le == !!!"
   ]
  },
  {
   "cell_type": "markdown",
   "metadata": {},
   "source": [
    "# <span style=\"color:red\"> EXO Exercice basique </span>\n",
    "\n",
    "Générer 1000 tirages selon une loi normale centrée réduite\n",
    " - Vérifier par comptage que la moitié (environ) des tirages est supérieure à 0\n",
    " - Vérifier que 2/3 des tirages sont compris entre entre moins l'écart-type et plus l'écart type"
   ]
  },
  {
   "cell_type": "markdown",
   "metadata": {},
   "source": []
  },
  {
   "cell_type": "code",
   "execution_count": 41,
   "metadata": {
    "collapsed": true
   },
   "outputs": [
    {
     "name": "stdout",
     "output_type": "stream",
     "text": [
      "461\n",
      "677\n",
      "677\n"
     ]
    }
   ],
   "source": [
    "lncr=np.random.randn(1000)\n",
    "print(np.where(lncr>0,1,0).sum())\n",
    "print(np.where((lncr<1)&(lncr>-1),1,0).sum())\n",
    "print(np.count_nonzero((lncr>-1)&(lncr<1)))\n"
   ]
  },
  {
   "cell_type": "markdown",
   "metadata": {},
   "source": [
    "# <span style=\"color:red\"> EXO Comptage des erreurs </span>\n",
    "\n",
    "Soit $\\mathbf y\\in \\{0,1\\}^n$ les étiquettes associées à $n$ données et $\\mathbf yhat\\in \\{0,1\\}^n$ les sorties de votre modèle, calculer le taux de bonne classification de votre approche."
   ]
  },
  {
   "cell_type": "code",
   "execution_count": 64,
   "metadata": {},
   "outputs": [
    {
     "name": "stdout",
     "output_type": "stream",
     "text": [
      "[0. 0. 0. 0. 0. 1. 1. 1. 1. 1.]\n",
      "[0. 0. 0. 0. 0. 1. 1. 1. 1. 1.]\n",
      "1.0\n"
     ]
    }
   ],
   "source": [
    "# generation arbitraire des données et des sorties\n",
    "n = 10\n",
    "y = np.ones(n)\n",
    "y[:n//2] = 0\n",
    "print(y)\n",
    "yhat = y.copy()\n",
    "yhat = np.where(np.random.random(n)<0.1, 1-yhat, yhat) # corruption de y par une bernoulli de paramètre 0.1\n",
    "print(yhat)\n",
    "# calculer le taux de bonne classification\n",
    "taux_bonne_classi=np.where(y==yhat,1,0).sum()/len(y)\n",
    "print(taux_bonne_classi)"
   ]
  },
  {
   "cell_type": "code",
   "execution_count": null,
   "metadata": {},
   "outputs": [],
   "source": []
  }
 ],
 "metadata": {
  "kernelspec": {
   "display_name": "Python 3.10.6 ('env_de_base')",
   "language": "python",
   "name": "python3"
  },
  "language_info": {
   "codemirror_mode": {
    "name": "ipython",
    "version": 3
   },
   "file_extension": ".py",
   "mimetype": "text/x-python",
   "name": "python",
   "nbconvert_exporter": "python",
   "pygments_lexer": "ipython3",
   "version": "3.10.6"
  },
  "vscode": {
   "interpreter": {
    "hash": "ef85adf4b467a204a022786f77cb16ffa45d84839ac133ab5a193268c2eb5bf8"
   }
  }
 },
 "nbformat": 4,
 "nbformat_minor": 2
}
